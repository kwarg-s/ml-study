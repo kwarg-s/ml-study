{
 "cells": [
  {
   "cell_type": "markdown",
   "metadata": {},
   "source": [
    "# XGBoost = Extreme Gradient Boosting 모델\n"
   ]
  },
  {
   "cell_type": "markdown",
   "metadata": {},
   "source": [
    "## XGBoost에서 개선된 점\n",
    "- 자체적으로 결측치를 처리한다\n",
    "- 속도를 향상한다. \n",
    "  - 근사 분할 탐색 알고리즘: 평범한 결정 트리는 그리디 알고리즘을 사용하지만, xgboost에서는 데이터를 나누는 퍼센트인 분위수 (퀀타일)을 사용해서 후보 분할을 제안한다. \n",
    "  - 희소성 고려 분할 탐색\n",
    "  - 병렬 컴퓨팅: 부스팅은 이전 트리의 결과에 의존하기 때문에 병렬 컴퓨팅이 어렵다. 병렬 컴퓨팅이란 여러 개의 계산 유닛이 동시에 동일한 작업을 하는 것인데 xgboost는 데이터를 블록이라는 단위로 정렬하고 압축하여 여러 대의 머신이나 외부 메모리에 분산시킨다. \n",
    "  - 캐시 고려 접근: 캐시를 고려한 프리페칭을 사용한다. \n",
    "  - 블록 압축, 블록 샤딩\n",
    "- 정확도를 향상한다.\n",
    "  - 자체적으로 regularization 추가: 분산을 줄이고 과대적합을 방지한다. "
   ]
  },
  {
   "cell_type": "code",
   "execution_count": 1,
   "metadata": {},
   "outputs": [],
   "source": [
    "# pandas와 numpy 임포트하기\n",
    "import pandas as pd\n",
    "import numpy as np\n",
    "\n",
    "# 경고 끄기\n",
    "import warnings\n",
    "warnings.filterwarnings('ignore')"
   ]
  },
  {
   "cell_type": "code",
   "execution_count": 2,
   "metadata": {},
   "outputs": [
    {
     "data": {
      "text/plain": [
       "(     instant  season   yr  mnth  holiday  weekday  workingday  weathersit  \\\n",
       " 203      204     3.0  0.0   7.0      0.0      6.0         0.0           1   \n",
       " 634      635     4.0  1.0   9.0      0.0      3.0         1.0           1   \n",
       " 544      545     3.0  1.0   6.0      0.0      4.0         1.0           1   \n",
       " 12        13     1.0  0.0   1.0      0.0      4.0         1.0           1   \n",
       " 171      172     3.0  0.0   6.0      0.0      2.0         1.0           2   \n",
       " \n",
       "          temp     atemp       hum  windspeed  \n",
       " 203  0.849167  0.804287  0.500000   0.131221  \n",
       " 634  0.635000  0.596613  0.630833   0.244400  \n",
       " 544  0.749167  0.675512  0.422500   0.171650  \n",
       " 12   0.165000  0.150883  0.470417   0.301000  \n",
       " 171  0.680833  0.637646  0.770417   0.171025  ,\n",
       " 203    3285\n",
       " 634    7733\n",
       " 544    6879\n",
       " 12     1406\n",
       " 171    4835\n",
       " Name: cnt, dtype: int64)"
      ]
     },
     "execution_count": 2,
     "metadata": {},
     "output_type": "execute_result"
    }
   ],
   "source": [
    "df_bikes = pd.read_csv('../data/bike_rentals_cleaned.csv')\n",
    "# 데이터를 X와 y로 나눕니다.\n",
    "X_bikes = df_bikes.iloc[:,:-1]\n",
    "y_bikes = df_bikes.iloc[:,-1]\n",
    "\n",
    "# train_test_split를 임포트합니다.\n",
    "from sklearn.model_selection import train_test_split\n",
    "\n",
    "# 데이터를 훈련 세트와 테스트 세트로 나눕니다.\n",
    "X_train, X_test, y_train, y_test = train_test_split(X_bikes, y_bikes, random_state=2)\n",
    "\n",
    "X_train.head(), y_train.head()"
   ]
  },
  {
   "cell_type": "code",
   "execution_count": 5,
   "metadata": {},
   "outputs": [
    {
     "data": {
      "text/plain": [
       "584.3395337495713"
      ]
     },
     "execution_count": 5,
     "metadata": {},
     "output_type": "execute_result"
    }
   ],
   "source": [
    "# XGBRegressor를 임포트합니다.\n",
    "from xgboost import XGBRegressor\n",
    "\n",
    "# mean_squared_error를 임포트합니다.\n",
    "from sklearn.metrics import mean_squared_error as MSE\n",
    "\n",
    "# XGBRegressor를 초기화합니다.\n",
    "xg_reg = XGBRegressor(max_depth=3, n_estimators=1600, eta=0.02, \n",
    "                      subsample=0.75, random_state=2)\n",
    "\n",
    "# 훈련 세트에서 xg_reg를 훈련합니다.\n",
    "xg_reg.fit(X_train, y_train)\n",
    "\n",
    "# 테스트 세트에 대한 예측을 만듭니다.\n",
    "y_pred = xg_reg.predict(X_test)\n",
    "\n",
    "# 평균 제곱근 오차를 계산합니다.\n",
    "MSE(y_test, y_pred)**0.5"
   ]
  }
 ],
 "metadata": {
  "kernelspec": {
   "display_name": "Python 3.9.6 64-bit",
   "language": "python",
   "name": "python3"
  },
  "language_info": {
   "codemirror_mode": {
    "name": "ipython",
    "version": 3
   },
   "file_extension": ".py",
   "mimetype": "text/x-python",
   "name": "python",
   "nbconvert_exporter": "python",
   "pygments_lexer": "ipython3",
   "version": "3.9.6"
  },
  "orig_nbformat": 4,
  "vscode": {
   "interpreter": {
    "hash": "4d97dfac72b5344da9592506e8ae21cbbdfd9437ca0e05329aac99300b906c4a"
   }
  }
 },
 "nbformat": 4,
 "nbformat_minor": 2
}
