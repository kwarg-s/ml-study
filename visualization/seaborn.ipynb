{
 "cells": [
  {
   "cell_type": "code",
   "execution_count": 2,
   "metadata": {},
   "outputs": [],
   "source": [
    "import seaborn as sns\n",
    "import matplotlib.pyplot as plt\n",
    "import pandas as pd \n",
    "import numpy as np"
   ]
  },
  {
   "cell_type": "code",
   "execution_count": 9,
   "metadata": {},
   "outputs": [
    {
     "data": {
      "image/png": "[encoded data removed]",
      "text/plain": [
       "<Figure size 432x288 with 1 Axes>"
      ]
     },
     "metadata": {
      "needs_background": "light"
     },
     "output_type": "display_data"
    }
   ],
   "source": [
    "def draw_lineplot(data, x_label='x', y_label='y', hue='hue'):\n",
    "    '''\n",
    "    주어진 데이터 형태\n",
    "              컬러1  컬러2\n",
    "    가로축1     값1    값5\n",
    "    가로축2     값2    값6 \n",
    "    가로축3     값3    값7\n",
    "    가로축4     값4    값8\n",
    "    \n",
    "    필요한 데이터 형태\n",
    "      가로축     값   컬러\n",
    "      가로축1    값1   컬러1\n",
    "      가로축2    값2   컬러1\n",
    "      가로축3    값3   컬러1\n",
    "      가로축4    값4   컬러1\n",
    "      가로축1    값5   컬러2\n",
    "      가로축2    값6   컬러2\n",
    "      가로축3    값7   컬러2\n",
    "      가로축4    값8   컬러2\n",
    "    '''\n",
    "    \n",
    "    df_new = df.stack().reset_index()\n",
    "    df_new.columns = [x_label, hue, y_label]\n",
    "    sns.lineplot(data=df_new, x=x_label, y=y_label, hue=hue)\n",
    "    plt.show()\n",
    "    \n",
    "    \n",
    "df = pd.DataFrame([\n",
    "    [1, 3],\n",
    "    [2, 4],\n",
    "    [3, 5]\n",
    "])\n",
    "\n",
    "df.index = ['어제','오늘','내일']\n",
    "df.columns = ['개','고양이']\n",
    "\n",
    "draw_lineplot(df)"
   ]
  },
  {
   "cell_type": "code",
   "execution_count": null,
   "metadata": {},
   "outputs": [],
   "source": []
  },
  {
   "cell_type": "code",
   "execution_count": null,
   "metadata": {},
   "outputs": [],
   "source": []
  }
 ],
 "metadata": {
  "kernelspec": {
   "display_name": "Python 3",
   "language": "python",
   "name": "python3"
  },
  "language_info": {
   "codemirror_mode": {
    "name": "ipython",
    "version": 3
   },
   "file_extension": ".py",
   "mimetype": "text/x-python",
   "name": "python",
   "nbconvert_exporter": "python",
   "pygments_lexer": "ipython3",
   "version": "3.9.6"
  },
  "orig_nbformat": 4
 },
 "nbformat": 4,
 "nbformat_minor": 2
}
