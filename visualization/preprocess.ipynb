{
 "cells": [
  {
   "cell_type": "code",
   "execution_count": 1,
   "metadata": {},
   "outputs": [],
   "source": [
    "import seaborn as sns\n",
    "import matplotlib.pyplot as plt\n",
    "import pandas as pd \n",
    "import numpy as np"
   ]
  },
  {
   "cell_type": "code",
   "execution_count": 32,
   "metadata": {},
   "outputs": [],
   "source": [
    " \n",
    "def prep_proportion(data, value, groupby_columns = None):\n",
    "    '''\n",
    "    주어진 데이터 형태\n",
    "              컬럼1 컬럼2  값\n",
    "    가로축1     a    c     2\n",
    "    가로축2     a    d     3\n",
    "    가로축3     b    c     4\n",
    "    가로축4     b    d     5\n",
    "    \n",
    "    필요한 데이터 형태\n",
    "    \n",
    "              컬럼1 컬럼2  값   구성비율_값_전체 구성비율_값_컬럼1 구성비율_값_컬럼2\n",
    "    가로축1     a    c     2\n",
    "    가로축2     a    d     3\n",
    "    가로축3     b    c     4\n",
    "    가로축4     b    d     5\n",
    "    '''\n",
    "    # 각 row별로 값을 동일한 컬럼1에서의 값의 합으로 나눈 데이터프레임 생성\n",
    "    if groupby_columns is None:\n",
    "        prop =  data[value].transform(lambda x: x / x.sum())\n",
    "        column_name = f\"구성비율_{value}_전체\"\n",
    "        \n",
    "    else:\n",
    "        prop = data.groupby(groupby_columns)[value].transform(lambda x: x / x.sum())\n",
    "        column_name = f\"구성비율_{value}_{'_'.join(groupby_columns)}\"\n",
    "        \n",
    "    data_new = data.copy()\n",
    "    data_new[column_name] = prop\n",
    "\n",
    "    return data_new"
   ]
  },
  {
   "cell_type": "code",
   "execution_count": 33,
   "metadata": {},
   "outputs": [
    {
     "data": {
      "text/html": [
       "<div>\n",
       "<style scoped>\n",
       "    .dataframe tbody tr th:only-of-type {\n",
       "        vertical-align: middle;\n",
       "    }\n",
       "\n",
       "    .dataframe tbody tr th {\n",
       "        vertical-align: top;\n",
       "    }\n",
       "\n",
       "    .dataframe thead th {\n",
       "        text-align: right;\n",
       "    }\n",
       "</style>\n",
       "<table border=\"1\" class=\"dataframe\">\n",
       "  <thead>\n",
       "    <tr style=\"text-align: right;\">\n",
       "      <th></th>\n",
       "      <th>컬럼1</th>\n",
       "      <th>컬럼2</th>\n",
       "      <th>값</th>\n",
       "      <th>구성비율_값_컬럼1_컬럼2</th>\n",
       "    </tr>\n",
       "  </thead>\n",
       "  <tbody>\n",
       "    <tr>\n",
       "      <th>가로축1</th>\n",
       "      <td>a</td>\n",
       "      <td>c</td>\n",
       "      <td>2</td>\n",
       "      <td>1.0</td>\n",
       "    </tr>\n",
       "    <tr>\n",
       "      <th>가로축2</th>\n",
       "      <td>a</td>\n",
       "      <td>d</td>\n",
       "      <td>3</td>\n",
       "      <td>1.0</td>\n",
       "    </tr>\n",
       "    <tr>\n",
       "      <th>가로축3</th>\n",
       "      <td>b</td>\n",
       "      <td>c</td>\n",
       "      <td>4</td>\n",
       "      <td>1.0</td>\n",
       "    </tr>\n",
       "    <tr>\n",
       "      <th>가로축4</th>\n",
       "      <td>b</td>\n",
       "      <td>d</td>\n",
       "      <td>5</td>\n",
       "      <td>1.0</td>\n",
       "    </tr>\n",
       "  </tbody>\n",
       "</table>\n",
       "</div>"
      ],
      "text/plain": [
       "     컬럼1 컬럼2  값  구성비율_값_컬럼1_컬럼2\n",
       "가로축1   a   c  2             1.0\n",
       "가로축2   a   d  3             1.0\n",
       "가로축3   b   c  4             1.0\n",
       "가로축4   b   d  5             1.0"
      ]
     },
     "execution_count": 33,
     "metadata": {},
     "output_type": "execute_result"
    }
   ],
   "source": [
    "import pandas as pd\n",
    "\n",
    "# 주어진 데이터프레임 생성\n",
    "data = {'컬럼1': ['a', 'a', 'b', 'b'],\n",
    "        '컬럼2': ['c', 'd', 'c', 'd'],\n",
    "        '값': [2, 3, 4, 5]}\n",
    "df = pd.DataFrame(data, index=['가로축1', '가로축2', '가로축3', '가로축4'])\n",
    "\n",
    "prep_proportion(df, \"값\", [\"컬럼1\",\"컬럼2\"])"
   ]
  },
  {
   "cell_type": "code",
   "execution_count": null,
   "metadata": {},
   "outputs": [],
   "source": []
  }
 ],
 "metadata": {
  "kernelspec": {
   "display_name": "Python 3",
   "language": "python",
   "name": "python3"
  },
  "language_info": {
   "codemirror_mode": {
    "name": "ipython",
    "version": 3
   },
   "file_extension": ".py",
   "mimetype": "text/x-python",
   "name": "python",
   "nbconvert_exporter": "python",
   "pygments_lexer": "ipython3",
   "version": "3.9.6"
  },
  "orig_nbformat": 4
 },
 "nbformat": 4,
 "nbformat_minor": 2
}
