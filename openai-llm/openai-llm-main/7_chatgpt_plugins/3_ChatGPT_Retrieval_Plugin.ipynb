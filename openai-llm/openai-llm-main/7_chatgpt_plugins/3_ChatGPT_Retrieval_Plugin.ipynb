{
 "cells": [
  {
   "cell_type": "code",
   "execution_count": null,
   "id": "214dc4b3",
   "metadata": {
    "id": "214dc4b3"
   },
   "outputs": [],
   "source": [
    "# 패키지 설치\n",
    "!pip install langchain==0.0.142\n",
    "!pip install openai"
   ]
  },
  {
   "cell_type": "code",
   "execution_count": null,
   "id": "f24be3fd",
   "metadata": {
    "id": "f24be3fd"
   },
   "outputs": [],
   "source": [
    "# 환경변수 준비\n",
    "import os\n",
    "os.environ[\"OPENAI_API_KEY\"] = \"<OpenAI_API의 API키>\""
   ]
  },
  {
   "cell_type": "code",
   "execution_count": null,
   "id": "e7a55d55",
   "metadata": {
    "id": "e7a55d55"
   },
   "outputs": [],
   "source": [
    "from langchain.retrievers import ChatGPTPluginRetriever\n",
    "\n",
    "# 리트리버 생성\n",
    "retriever = ChatGPTPluginRetriever(\n",
    "    url=\"http://0.0.0.0:8000\",\n",
    "    bearer_token=os.getenv(\"BEARER_TOKEN\")\n",
    ")"
   ]
  },
  {
   "cell_type": "code",
   "execution_count": null,
   "id": "1996ceb1",
   "metadata": {
    "id": "1996ceb1"
   },
   "outputs": [],
   "source": [
    "from langchain.llms import OpenAI\n",
    "from langchain.chains import RetrievalQA\n",
    "\n",
    "# 체인 생성\n",
    "chain = RetrievalQA.from_chain_type(\n",
    "    llm=OpenAI(),\n",
    "    chain_type=\"stuff\",\n",
    "    retriever=retriever\n",
    ")"
   ]
  },
  {
   "cell_type": "code",
   "execution_count": null,
   "id": "a889fdac",
   "metadata": {
    "id": "a889fdac"
   },
   "outputs": [],
   "source": [
    "# 인덱스에 대한 질의응답\n",
    "print(chain.run(\"미코의 소꿉친구 이름은?\"))"
   ]
  }
 ],
 "metadata": {
  "colab": {
   "provenance": []
  },
  "kernelspec": {
   "display_name": "Python 3 (ipykernel)",
   "language": "python",
   "name": "python3"
  },
  "language_info": {
   "codemirror_mode": {
    "name": "ipython",
    "version": 3
   },
   "file_extension": ".py",
   "mimetype": "text/x-python",
   "name": "python",
   "nbconvert_exporter": "python",
   "pygments_lexer": "ipython3",
   "version": "3.11.3"
  }
 },
 "nbformat": 4,
 "nbformat_minor": 5
}
