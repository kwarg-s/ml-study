{
 "cells": [
  {
   "cell_type": "markdown",
   "metadata": {
    "id": "aQ2KGyLJ99Yi"
   },
   "source": [
    "# 랭체인 사전 준비"
   ]
  },
  {
   "cell_type": "code",
   "execution_count": null,
   "metadata": {
    "id": "mkPbwp6-ploX"
   },
   "outputs": [],
   "source": [
    "# 패키지 설치\n",
    "!pip install langchain==0.0.181\n",
    "!pip install openai"
   ]
  },
  {
   "cell_type": "code",
   "execution_count": null,
   "metadata": {
    "id": "_Gf8Rfw2MiG_"
   },
   "outputs": [],
   "source": [
    "# 환경변수 준비\n",
    "import os\n",
    "os.environ[\"OPENAI_API_KEY\"] = \"<OpenAI_API의 API키>\""
   ]
  },
  {
   "cell_type": "code",
   "execution_count": null,
   "metadata": {
    "id": "f-u2ckkLCa-a"
   },
   "outputs": [],
   "source": [
    "# 패키지 설치\n",
    "!pip install tiktoken"
   ]
  },
  {
   "cell_type": "markdown",
   "metadata": {
    "id": "jDzN8L57Xfmq"
   },
   "source": [
    "# ConversationBufferMemory"
   ]
  },
  {
   "cell_type": "code",
   "execution_count": null,
   "metadata": {
    "id": "69HkDUcX-p-p"
   },
   "outputs": [],
   "source": [
    "from langchain.memory import ConversationBufferMemory\n",
    "\n",
    "# 메모리 생성\n",
    "memory = ConversationBufferMemory()\n",
    "memory.chat_memory.add_user_message(\"배고프다\")\n",
    "memory.chat_memory.add_ai_message(\"어디 가서 밥 먹을까?\")\n",
    "memory.chat_memory.add_user_message(\"라면 먹으러 가자\")\n",
    "memory.chat_memory.add_ai_message(\"지하철역 앞에 있는 분식집으로 가자\")\n",
    "memory.chat_memory.add_user_message(\"그럼 출발!\")\n",
    "memory.chat_memory.add_ai_message(\"OK!\")"
   ]
  },
  {
   "cell_type": "code",
   "execution_count": null,
   "metadata": {
    "id": "nZMTBqsOUMJP"
   },
   "outputs": [],
   "source": [
    "# 메모리 변수 가져오기\n",
    "memory.load_memory_variables({})"
   ]
  },
  {
   "cell_type": "code",
   "execution_count": null,
   "metadata": {
    "id": "Y3fKf2DX8lt7"
   },
   "outputs": [],
   "source": [
    "from langchain.memory import ConversationBufferMemory\n",
    "\n",
    "# 메모리 생성\n",
    "memory = ConversationBufferMemory(return_messages=True)\n",
    "memory.chat_memory.add_user_message(\"배고프다\")\n",
    "memory.chat_memory.add_ai_message(\"어디 가서 밥 먹을까?\")\n",
    "memory.chat_memory.add_user_message(\"라면 먹으러 가자\")\n",
    "memory.chat_memory.add_ai_message(\"역 앞에 있는 분식집으로 가자\")\n",
    "memory.chat_memory.add_user_message(\"그럼 출발!\")\n",
    "memory.chat_memory.add_ai_message(\"OK!\")"
   ]
  },
  {
   "cell_type": "code",
   "execution_count": null,
   "metadata": {
    "id": "bEEhWFSNUN6g"
   },
   "outputs": [],
   "source": [
    "# 메모리 변수 가져오기\n",
    "memory.load_memory_variables({})"
   ]
  },
  {
   "cell_type": "markdown",
   "metadata": {
    "id": "vzt-Qu22UXN2"
   },
   "source": [
    "# ConversationBufferWindowMemory"
   ]
  },
  {
   "cell_type": "code",
   "execution_count": null,
   "metadata": {
    "id": "BMhzLwqE837C"
   },
   "outputs": [],
   "source": [
    "from langchain.memory import ConversationBufferWindowMemory\n",
    "\n",
    "# 메모리 생성\n",
    "memory = ConversationBufferWindowMemory(k=2, return_messages=True)\n",
    "memory.save_context({\"input\": \"안녕!\"}, {\"ouput\": \"무슨 일이야?\"})\n",
    "memory.save_context({\"input\": \"배고파\"}, {\"ouput\": \"나도\"})\n",
    "memory.save_context({\"input\": \"밥 먹자\"}, {\"ouput\": \"OK!\"})"
   ]
  },
  {
   "cell_type": "code",
   "execution_count": null,
   "metadata": {
    "id": "uP9yh9h98_W1"
   },
   "outputs": [],
   "source": [
    "# 메모리 변수 가져오기\n",
    "memory.load_memory_variables({})"
   ]
  },
  {
   "cell_type": "markdown",
   "metadata": {
    "id": "-xgJhnQ1tPj7"
   },
   "source": [
    "# ConversationTokenBufferMemory"
   ]
  },
  {
   "cell_type": "code",
   "execution_count": null,
   "metadata": {
    "id": "WsplGSSVtQ8u"
   },
   "outputs": [],
   "source": [
    "from langchain.memory import ConversationTokenBufferMemory\n",
    "from langchain.chat_models import ChatOpenAI\n",
    "\n",
    "# 메모리 생성\n",
    "memory = ConversationTokenBufferMemory(\n",
    "    llm=ChatOpenAI(temperature=0), \n",
    "    max_token_limit=50, \n",
    "    return_messages=True\n",
    ")\n",
    "memory.save_context({\"input\": \"배고파\"}, {\"ouput\": \"어디 가서 밥 먹을까?\"})\n",
    "memory.save_context({\"input\": \"라면 먹으러 가자\"}, {\"ouput\": \"역 앞에 있는 분식집으로 가자\"})\n",
    "memory.save_context({\"input\": \"그럼 출발!\"}, {\"ouput\": \"OK!\"})"
   ]
  },
  {
   "cell_type": "code",
   "execution_count": null,
   "metadata": {
    "id": "bp2O4csrtRGE"
   },
   "outputs": [],
   "source": [
    "# 메모리 변수 가져오기\n",
    "memory.load_memory_variables({})"
   ]
  },
  {
   "cell_type": "markdown",
   "metadata": {
    "id": "FaaPYrNlVvMG"
   },
   "source": [
    "# ConversationSummaryMemory"
   ]
  },
  {
   "cell_type": "code",
   "execution_count": null,
   "metadata": {
    "id": "c_0s-EMOV31N"
   },
   "outputs": [],
   "source": [
    "from langchain.memory import ConversationSummaryMemory\n",
    "from langchain.chat_models import ChatOpenAI\n",
    "\n",
    "# 메모리 생성\n",
    "memory = ConversationSummaryMemory(llm=ChatOpenAI(temperature=0), return_messages=True)\n",
    "memory.save_context({\"input\": \"배고파\"}, {\"ouput\": \"어디 가서 밥 먹을까?\"})\n",
    "memory.save_context({\"input\": \"라면 먹으러 가자\"}, {\"ouput\": \"역 앞에 있는 분식집으로 가자\"})\n",
    "memory.save_context({\"input\": \"그럼 출발!\"}, {\"ouput\": \"OK!\"})"
   ]
  },
  {
   "cell_type": "code",
   "execution_count": null,
   "metadata": {
    "id": "EKDGWJUQj4w2"
   },
   "outputs": [],
   "source": [
    "# 메모리 변수 가져오기\n",
    "memory.load_memory_variables({})"
   ]
  },
  {
   "cell_type": "markdown",
   "metadata": {
    "id": "FCnO14nxV985"
   },
   "source": [
    "# ConversationSummaryBufferMemory"
   ]
  },
  {
   "cell_type": "code",
   "execution_count": null,
   "metadata": {
    "id": "lE2ksrWAWB-K"
   },
   "outputs": [],
   "source": [
    "from langchain.memory import ConversationSummaryBufferMemory\n",
    "from langchain.chat_models import ChatOpenAI\n",
    "\n",
    "# 메모리 생성\n",
    "memory = ConversationSummaryBufferMemory(\n",
    "    llm=ChatOpenAI(temperature=0), \n",
    "    max_token_limit=50, \n",
    "    return_messages=True\n",
    ")\n",
    "memory.save_context({\"input\": \"안녕\"}, {\"ouput\": \"무슨 일이야?\"})\n",
    "memory.save_context({\"input\": \"배고파\"}, {\"ouput\": \"나도\"})\n",
    "memory.save_context({\"input\": \"밥 먹자\"}, {\"ouput\": \"OK!\"})"
   ]
  },
  {
   "cell_type": "code",
   "execution_count": null,
   "metadata": {
    "id": "G8lbqNUw7mH4"
   },
   "outputs": [],
   "source": [
    "# 메모리 변수 가져오기\n",
    "memory.load_memory_variables({})"
   ]
  }
 ],
 "metadata": {
  "colab": {
   "authorship_tag": "ABX9TyNhjwrSVWERiqGSpV/JBT0G",
   "provenance": []
  },
  "kernelspec": {
   "display_name": "Python 3 (ipykernel)",
   "language": "python",
   "name": "python3"
  },
  "language_info": {
   "codemirror_mode": {
    "name": "ipython",
    "version": 3
   },
   "file_extension": ".py",
   "mimetype": "text/x-python",
   "name": "python",
   "nbconvert_exporter": "python",
   "pygments_lexer": "ipython3",
   "version": "3.11.3"
  }
 },
 "nbformat": 4,
 "nbformat_minor": 1
}
