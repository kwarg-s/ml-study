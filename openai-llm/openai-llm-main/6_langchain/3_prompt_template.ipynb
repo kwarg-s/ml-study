{
 "cells": [
  {
   "cell_type": "markdown",
   "metadata": {
    "id": "aQ2KGyLJ99Yi"
   },
   "source": [
    "# 랭체인 사전 준비"
   ]
  },
  {
   "cell_type": "code",
   "execution_count": null,
   "metadata": {
    "id": "mkPbwp6-ploX"
   },
   "outputs": [],
   "source": [
    "# 패키지 설치\n",
    "!pip install langchain==0.0.181\n",
    "!pip install openai"
   ]
  },
  {
   "cell_type": "code",
   "execution_count": null,
   "metadata": {
    "id": "_Gf8Rfw2MiG_"
   },
   "outputs": [],
   "source": [
    "# 환경변수 준비\n",
    "import os\n",
    "os.environ[\"OPENAI_API_KEY\"] = \"<OpenAI_API의 API키>\""
   ]
  },
  {
   "cell_type": "code",
   "execution_count": null,
   "metadata": {
    "id": "8NJNp0nnOjW5"
   },
   "outputs": [],
   "source": [
    "# 패키지 설치\n",
    "!pip install tiktoken\n",
    "!pip install faiss-gpu"
   ]
  },
  {
   "cell_type": "markdown",
   "metadata": {
    "id": "YPJ2lQW0-J3a"
   },
   "source": [
    "# 프롬프트 템플릿 생성"
   ]
  },
  {
   "cell_type": "code",
   "execution_count": null,
   "metadata": {
    "id": "YBYKjuiZBAXn"
   },
   "outputs": [],
   "source": [
    "from langchain.prompts import PromptTemplate\n",
    "\n",
    "# 입력 변수가 없는 프롬프트 템플릿 만들기\n",
    "no_input_prompt = PromptTemplate(\n",
    "    input_variables=[],\n",
    "    template=\"멋진 동물이라고 하면?\"\n",
    ")\n",
    "\n",
    "# 프롬프트 생성\n",
    "print(no_input_prompt.format())"
   ]
  },
  {
   "cell_type": "code",
   "execution_count": null,
   "metadata": {
    "id": "oT6TOM9YXFbW"
   },
   "outputs": [],
   "source": [
    "from langchain.prompts import PromptTemplate\n",
    "\n",
    "# 하나의 입력 변수가 있는 프롬프트 템플릿 만들기\n",
    "one_input_prompt = PromptTemplate(\n",
    "    input_variables=[\"content\"],\n",
    "    template=\"멋진 {content}이라고 하면?\"\n",
    ")\n",
    "\n",
    "# 프롬프트 생성\n",
    "print(one_input_prompt.format(content=\"동물\"))"
   ]
  },
  {
   "cell_type": "code",
   "execution_count": null,
   "metadata": {
    "id": "Lsnj4yrTXfUq"
   },
   "outputs": [],
   "source": [
    "from langchain.prompts import PromptTemplate\n",
    "\n",
    "# 여러 개의 입력 변수가 있는 프롬프트 템플릿 만들기\n",
    "multiple_input_prompt = PromptTemplate(\n",
    "    input_variables=[\"adjective\", \"content\"],\n",
    "    template=\"{adjective}{content}이라고 하면?\"\n",
    ")\n",
    "\n",
    "# 프롬프트 생성\n",
    "print(multiple_input_prompt.format(adjective=\"멋진\", content=\"동물\"))"
   ]
  },
  {
   "cell_type": "code",
   "execution_count": null,
   "metadata": {
    "id": "Pk7zBZyxX6rc"
   },
   "outputs": [],
   "source": [
    "from langchain.prompts import PromptTemplate\n",
    "\n",
    "# jinja2를 이용한 프롬프트 템플릿 준비\n",
    "jinja2_prompt = PromptTemplate(\n",
    "    input_variables=[\"items\"],\n",
    "    template_format=\"jinja2\",\n",
    "    template=\"\"\"\n",
    "{% for item in items %}\n",
    "Q: {{ item.question }}\n",
    "A: {{ item.answer }}\n",
    "{% endfor %}\n",
    "\"\"\"\n",
    ")\n",
    "\n",
    "# 프롬프트 생성\n",
    "items=[\n",
    "    {\"question\": \"foo\", \"answer\": \"bar\"},\n",
    "    {\"question\": \"1\", \"answer\": \"2\"}\n",
    "]\n",
    "print(jinja2_prompt.format(items=items))"
   ]
  },
  {
   "cell_type": "markdown",
   "metadata": {
    "id": "I0QvwzcRFj10"
   },
   "source": [
    "# 답변 예시가 포함된 프롬프트 템플릿"
   ]
  },
  {
   "cell_type": "code",
   "execution_count": null,
   "metadata": {
    "id": "rcjLrvZ6Fk-e"
   },
   "outputs": [],
   "source": [
    "from langchain.prompts import FewShotPromptTemplate\n",
    "\n",
    "# 답변 예시 준비\n",
    "examples = [\n",
    "    {\"input\": \"明るい\", \"output\": \"暗い\"},\n",
    "    {\"input\": \"おもしろい\", \"output\": \"つまらない\"},\n",
    "]\n",
    "\n",
    "# 프롬프트 템플릿 생성\n",
    "example_prompt = PromptTemplate(\n",
    "    input_variables=[\"input\",\"output\"],\n",
    "    template=\"入力: {input}\\n出力: {output}\",\n",
    ")\n",
    "\n",
    "# 답변 예시를 포함한 프롬프트 템플릿 만들기\n",
    "prompt_from_string_examples = FewShotPromptTemplate(\n",
    "    examples=examples, # 답변 예시\n",
    "    example_prompt=example_prompt, # 프롬프트 템플릿\n",
    "    prefix=\"모든 입력에 대한 반의어를 입력하세요\", # 접두사\n",
    "    suffix=\"입력: {adjective}\\n출력:\", # 접미사\n",
    "    input_variables=[\"adjective\"], # 입력 변수\n",
    "    example_separator=\"\\n\\n\" # 구분 기호\n",
    "\n",
    ")\n",
    "\n",
    "# 프롬프트 생성\n",
    "print(prompt_from_string_examples.format(adjective=\"큰\"))"
   ]
  },
  {
   "cell_type": "markdown",
   "metadata": {
    "id": "BDyN588AFvt9"
   },
   "source": [
    "# LengthBasedExampleSelector"
   ]
  },
  {
   "cell_type": "code",
   "execution_count": null,
   "metadata": {
    "id": "m6N9nSJPFxO0"
   },
   "outputs": [],
   "source": [
    "from langchain.prompts import FewShotPromptTemplate\n",
    "from langchain.prompts.example_selector import LengthBasedExampleSelector\n",
    "\n",
    "# 답변 예시 준비\n",
    "examples = [\n",
    "    {\"input\": \"밝은\", \"output\": \"어두운\"},\n",
    "    {\"input\": \"재미있는\", \"output\": \"지루한\"},\n",
    "    {\"input\": \"활기찬\", \"output\": \"무기력한\"},\n",
    "    {\"input\": \"높은\", \"output\": \"낮은\"},\n",
    "    {\"input\": \"빠른\", \"output\": \"느린\"},\n",
    "]\n",
    "\n",
    "# 프롬프트 템플릿 생성\n",
    "example_prompt = PromptTemplate(\n",
    "    input_variables=[\"input\",\"output\"],\n",
    "    template=\"입력: {input}\\n출력: {output}\",\n",
    ")\n",
    "\n",
    "# LengthBasedExampleSelector 생성\n",
    "example_selector = LengthBasedExampleSelector(\n",
    "    examples=examples, # 답변 예시\n",
    "    example_prompt=example_prompt, # 프롬프트 템플릿\n",
    "    max_length=10, # 문자열의 최대 길이\n",
    ")\n",
    "\n",
    "# FewShotPromptTemplate 생성\n",
    "prompt_from_string_examples = FewShotPromptTemplate(\n",
    "    example_selector=example_selector,  # ExampleSelector\n",
    "    example_prompt=example_prompt,\n",
    "    prefix=\"모든 입력에 대한 반의어를 입력하세요\",\n",
    "    suffix=\"입력: {adjective}\\n출력:\",\n",
    "    input_variables=[\"adjective\"],\n",
    "    example_separator=\"\\n\\n\"\n",
    ")\n",
    "\n",
    "# 프롬프트 생성\n",
    "print(prompt_from_string_examples.format(adjective=\"큰\"))"
   ]
  },
  {
   "cell_type": "markdown",
   "metadata": {
    "id": "BRdaDPJ9G9PX"
   },
   "source": [
    "# SemanticSimilarityExampleSelector"
   ]
  },
  {
   "cell_type": "code",
   "execution_count": null,
   "metadata": {
    "id": "GlXjHv5FHB4f"
   },
   "outputs": [],
   "source": [
    "from langchain.prompts.example_selector import SemanticSimilarityExampleSelector\n",
    "from langchain.vectorstores import FAISS\n",
    "from langchain.embeddings import OpenAIEmbeddings\n",
    "from langchain.prompts import FewShotPromptTemplate\n",
    "\n",
    "# 답변 예시 준비\n",
    "examples = [\n",
    "    {\"input\": \"밝은\", \"output\": \"어두운\"},\n",
    "    {\"input\": \"재미있는\", \"output\": \"지루한\"},\n",
    "    {\"input\": \"활기찬\", \"output\": \"무기력한\"},\n",
    "    {\"input\": \"높은\", \"output\": \"낮은\"},\n",
    "    {\"input\": \"빠른\", \"output\": \"느린\"},\n",
    "]\n",
    "\n",
    "# 프롬프트 템플릿 생성\n",
    "example_prompt = PromptTemplate(\n",
    "    input_variables=[\"input\",\"output\"],\n",
    "    template=\"입력: {input}\\n출력: {output}\",\n",
    ")\n",
    "\n",
    "# SemanticSimilarityExampleSelector 생성\n",
    "example_selector = SemanticSimilarityExampleSelector.from_examples(\n",
    "    examples=examples, # 답변 예시\n",
    "    embeddings=OpenAIEmbeddings(), # 임베디드 생성 클래스\n",
    "    vectorstore_cls=FAISS, # 임베디드 유사 검색 클래스\n",
    "    k=3 # 답변 예시 개수\n",
    ")\n",
    "\n",
    "# FewShotPromptTemplate 생성\n",
    "prompt_from_string_examples = FewShotPromptTemplate(\n",
    "    example_selector=example_selector,  # ExampleSelector\n",
    "    example_prompt=example_prompt,\n",
    "    prefix=\"모든 입력에 대한 반의어를 입력하세요\",\n",
    "    suffix=\"입력: {adjective}\\n출력:\",\n",
    "    input_variables=[\"adjective\"],\n",
    "    example_separator=\"\\n\\n\"\n",
    ")\n",
    "\n",
    "# 프롬프트 생성\n",
    "print(prompt_from_string_examples.format(adjective=\"큰\"))"
   ]
  },
  {
   "cell_type": "markdown",
   "metadata": {
    "id": "KZBrH6W-HFLs"
   },
   "source": [
    "# MaxMarginalRelevanceExampleSelector"
   ]
  },
  {
   "cell_type": "code",
   "execution_count": null,
   "metadata": {
    "id": "pTYHBw6LHFgR"
   },
   "outputs": [],
   "source": [
    "from langchain.prompts.example_selector import MaxMarginalRelevanceExampleSelector\n",
    "from langchain.vectorstores import FAISS\n",
    "from langchain.embeddings import OpenAIEmbeddings\n",
    "from langchain.prompts import FewShotPromptTemplate\n",
    "\n",
    "# 답변 예시 준비\n",
    "examples = [\n",
    "    {\"input\": \"밝은\", \"output\": \"어두운\"},\n",
    "    {\"input\": \"재미있는\", \"output\": \"지루한\"},\n",
    "    {\"input\": \"활기찬\", \"output\": \"무기력한\"},\n",
    "    {\"input\": \"높은\", \"output\": \"낮은\"},\n",
    "    {\"input\": \"빠른\", \"output\": \"느린\"},\n",
    "]\n",
    "\n",
    "# 프롬프트 템플릿 생성\n",
    "example_prompt = PromptTemplate(\n",
    "    input_variables=[\"input\",\"output\"],\n",
    "    template=\"입력: {input}\\n출력: {output}\",\n",
    ")\n",
    "\n",
    "# MaxMarginalRelevanceExampleSelector 생성\n",
    "example_selector = MaxMarginalRelevanceExampleSelector.from_examples(\n",
    "    examples=examples, # 답변 예시\n",
    "    embeddings=OpenAIEmbeddings(), # 임베디드 생성 클래스\n",
    "    vectorstore_cls=FAISS, # 임베디드 유사 검색 클래스\n",
    "    k=3 # 답변 예시 개수\n",
    ")\n",
    "\n",
    "# FewShotPromptTemplate 준비\n",
    "prompt_from_string_examples = FewShotPromptTemplate(\n",
    "    example_selector=example_selector,\n",
    "    example_prompt=example_prompt,\n",
    "    prefix=\"모든 입력에 대한 반의어를 입력하세요\",\n",
    "    suffix=\"입력: {adjective}\\n출력:\",\n",
    "    input_variables=[\"adjective\"],\n",
    "    example_separator=\"\\n\\n\"\n",
    "\n",
    ")\n",
    "\n",
    "# 프롬프트 생성\n",
    "print(prompt_from_string_examples.format(adjective=\"큰\"))"
   ]
  }
 ],
 "metadata": {
  "colab": {
   "authorship_tag": "ABX9TyOgN7mYLNix7WXLXfrPbinH",
   "provenance": []
  },
  "kernelspec": {
   "display_name": "Python 3 (ipykernel)",
   "language": "python",
   "name": "python3"
  },
  "language_info": {
   "codemirror_mode": {
    "name": "ipython",
    "version": 3
   },
   "file_extension": ".py",
   "mimetype": "text/x-python",
   "name": "python",
   "nbconvert_exporter": "python",
   "pygments_lexer": "ipython3",
   "version": "3.11.3"
  }
 },
 "nbformat": 4,
 "nbformat_minor": 1
}
