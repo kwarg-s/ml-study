{
 "cells": [
  {
   "cell_type": "markdown",
   "metadata": {
    "id": "aQ2KGyLJ99Yi"
   },
   "source": [
    "# 랭체인 사전 준비"
   ]
  },
  {
   "cell_type": "code",
   "execution_count": null,
   "metadata": {
    "id": "mkPbwp6-ploX"
   },
   "outputs": [],
   "source": [
    "# 패키지 설치\n",
    "!pip install langchain==0.0.181\n",
    "!pip install openai"
   ]
  },
  {
   "cell_type": "code",
   "execution_count": null,
   "metadata": {
    "id": "_Gf8Rfw2MiG_"
   },
   "outputs": [],
   "source": [
    "# 환경변수 준비\n",
    "import os\n",
    "os.environ[\"OPENAI_API_KEY\"] = \"<OpenAI_API의 API키>\""
   ]
  },
  {
   "cell_type": "markdown",
   "metadata": {
    "id": "XdFhUL2tmBP6"
   },
   "source": [
    "# 에이전트"
   ]
  },
  {
   "cell_type": "code",
   "execution_count": null,
   "metadata": {
    "id": "lB5CbEyYMMzK"
   },
   "outputs": [],
   "source": [
    "# 패키지 설치\n",
    "!pip install google-search-results"
   ]
  },
  {
   "cell_type": "code",
   "execution_count": null,
   "metadata": {
    "id": "y5nwREhlMNK3"
   },
   "outputs": [],
   "source": [
    "# 환경변수 준비\n",
    "import os\n",
    "os.environ[\"SERPAPI_API_KEY\"] = \"<SerpAPI의 API 키>\""
   ]
  },
  {
   "cell_type": "code",
   "execution_count": null,
   "metadata": {
    "id": "2ad2YW4cLrlp"
   },
   "outputs": [],
   "source": [
    "from langchain.agents import load_tools\n",
    "from langchain.chat_models import ChatOpenAI\n",
    "\n",
    "# 도구 준비\n",
    "tools = load_tools(\n",
    "    tool_names=[\"serpapi\", \"llm-math\"], # 도구 이름\n",
    "    llm=ChatOpenAI(temperature=0) # 도구의 초기화에 사용할 LLM\n",
    ")"
   ]
  },
  {
   "cell_type": "code",
   "execution_count": null,
   "metadata": {
    "id": "7i8J_RsRQA8N"
   },
   "outputs": [],
   "source": [
    "from langchain.chains.conversation.memory import ConversationBufferMemory\n",
    "\n",
    "# 메모리 생성\n",
    "memory = ConversationBufferMemory(\n",
    "    memory_key=\"chat_history\", \n",
    "    return_messages=True\n",
    ")"
   ]
  },
  {
   "cell_type": "code",
   "execution_count": null,
   "metadata": {
    "id": "iYCsU-93Lrns"
   },
   "outputs": [],
   "source": [
    "from langchain.agents import initialize_agent\n",
    "\n",
    "# 에이전트 생성\n",
    "agent = initialize_agent(\n",
    "    agent=\"conversational-react-description\", # 에이전트 유형 설정\n",
    "    llm=ChatOpenAI(temperature=0), # 에이전트 초기화에 사용할 LLM\n",
    "    tools=tools, # 도구\n",
    "    memory=memory, # 메모리\n",
    "    verbose=True # 상세 정보 출력\n",
    ")"
   ]
  },
  {
   "cell_type": "code",
   "execution_count": null,
   "metadata": {
    "id": "G9uKKUyHb84q"
   },
   "outputs": [],
   "source": [
    "# 에이전트 실행\n",
    "agent.run(\"좋은 아침입니다.\")"
   ]
  },
  {
   "cell_type": "code",
   "execution_count": null,
   "metadata": {
    "id": "Es0wVq8IcWZQ"
   },
   "outputs": [],
   "source": [
    "# 에이전트 실행\n",
    "agent.run(\"우리집 반려견 이름은 보리입니다.\")"
   ]
  },
  {
   "cell_type": "code",
   "execution_count": null,
   "metadata": {
    "id": "PbNbWDPfcamy"
   },
   "outputs": [],
   "source": [
    "# 에이전트 실행\n",
    "agent.run(\"우리집 반려견 이름을 불러주세요.\")"
   ]
  },
  {
   "cell_type": "code",
   "execution_count": null,
   "metadata": {
    "id": "DP__ZcpFLrpy"
   },
   "outputs": [],
   "source": [
    "# 에이전트 실행\n",
    "agent.run(\"123*4를 계산기로 계산해 주세요\")"
   ]
  },
  {
   "cell_type": "code",
   "execution_count": null,
   "metadata": {
    "id": "q1ojiZUcSnxr"
   },
   "outputs": [],
   "source": [
    "# 에이전트 실행\n",
    "agent.run(\"오늘 서울의 날씨를 웹에서 검색해 주세요.\")"
   ]
  }
 ],
 "metadata": {
  "colab": {
   "authorship_tag": "ABX9TyPxd3EGFtiGikD3GJ7uix5/",
   "provenance": []
  },
  "kernelspec": {
   "display_name": "Python 3 (ipykernel)",
   "language": "python",
   "name": "python3"
  },
  "language_info": {
   "codemirror_mode": {
    "name": "ipython",
    "version": 3
   },
   "file_extension": ".py",
   "mimetype": "text/x-python",
   "name": "python",
   "nbconvert_exporter": "python",
   "pygments_lexer": "ipython3",
   "version": "3.11.3"
  }
 },
 "nbformat": 4,
 "nbformat_minor": 1
}
