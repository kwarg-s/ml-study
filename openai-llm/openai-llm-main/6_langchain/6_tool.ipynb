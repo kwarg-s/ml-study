{
 "cells": [
  {
   "cell_type": "markdown",
   "metadata": {
    "id": "aQ2KGyLJ99Yi"
   },
   "source": [
    "# 랭체인 사전 준비"
   ]
  },
  {
   "cell_type": "code",
   "execution_count": null,
   "metadata": {
    "id": "mkPbwp6-ploX"
   },
   "outputs": [],
   "source": [
    "# 패키지 설치\n",
    "!pip install langchain==0.0.181\n",
    "!pip install openai"
   ]
  },
  {
   "cell_type": "code",
   "execution_count": null,
   "metadata": {
    "id": "_Gf8Rfw2MiG_"
   },
   "outputs": [],
   "source": [
    "# 환경변수 준비\n",
    "import os\n",
    "os.environ[\"OPENAI_API_KEY\"] = \"<OpenAI_API의 API키>\""
   ]
  },
  {
   "cell_type": "markdown",
   "metadata": {
    "id": "XdFhUL2tmBP6"
   },
   "source": [
    "# 구글 맞춤 검색 도구"
   ]
  },
  {
   "cell_type": "code",
   "execution_count": null,
   "metadata": {
    "id": "uQUPGT95mEEH"
   },
   "outputs": [],
   "source": [
    "# 환경변수 준비\n",
    "import os\n",
    "os.environ[\"GOOGLE_CSE_ID\"] = \"<구글 맞춤검색_검색엔진ID>\"\n",
    "os.environ[\"GOOGLE_API_KEY\"] = \"<구글 맞춤검색_API키>\""
   ]
  },
  {
   "cell_type": "code",
   "execution_count": null,
   "metadata": {
    "id": "0k5HuFYj1e0J"
   },
   "outputs": [],
   "source": [
    "from langchain.agents import load_tools\n",
    "from langchain.chat_models import ChatOpenAI\n",
    "\n",
    "# 도구 준비\n",
    "tools = load_tools(\n",
    "    tool_names=[\"google-search\"], \n",
    "    llm=ChatOpenAI(temperature=0)\n",
    ")"
   ]
  },
  {
   "cell_type": "code",
   "execution_count": null,
   "metadata": {
    "id": "1x44uVOiOWXy"
   },
   "outputs": [],
   "source": [
    "from langchain.chains.conversation.memory import ConversationBufferMemory\n",
    "\n",
    "# 메모리 생성\n",
    "memory = ConversationBufferMemory(\n",
    "    memory_key=\"chat_history\", \n",
    "    return_messages=True\n",
    ")"
   ]
  },
  {
   "cell_type": "code",
   "execution_count": null,
   "metadata": {
    "id": "Z8FFZ6WvmEJD"
   },
   "outputs": [],
   "source": [
    "from langchain.agents import initialize_agent\n",
    "\n",
    "# 에이전트 생성\n",
    "agent = initialize_agent(\n",
    "    agent=\"zero-shot-react-description\",\n",
    "    llm=ChatOpenAI(temperature=0),\n",
    "    tools=tools,\n",
    "    memory=memory,\n",
    "    verbose=True\n",
    ")"
   ]
  },
  {
   "cell_type": "code",
   "execution_count": null,
   "metadata": {
    "id": "BWBVejP-r9U3"
   },
   "outputs": [],
   "source": [
    "# 에이전트 실행\n",
    "agent.run(\"영화 명량의 감독은?\")"
   ]
  },
  {
   "cell_type": "markdown",
   "metadata": {
    "id": "SfFhLVD-uJlI"
   },
   "source": [
    "# Wolfram Alpha 도구"
   ]
  },
  {
   "cell_type": "code",
   "execution_count": null,
   "metadata": {
    "id": "G3u3BsAvuNqi"
   },
   "outputs": [],
   "source": [
    "# 패키지 설치\n",
    "!pip install wolframalpha"
   ]
  },
  {
   "cell_type": "code",
   "execution_count": null,
   "metadata": {
    "id": "YYwEzdi5uNs9"
   },
   "outputs": [],
   "source": [
    "# 환경변수 준비\n",
    "import os\n",
    "os.environ[\"WOLFRAM_ALPHA_APPID\"] = \"<Walfram_Alpha의 AppID>\""
   ]
  },
  {
   "cell_type": "code",
   "execution_count": null,
   "metadata": {
    "id": "1r7dnVpV1oUs"
   },
   "outputs": [],
   "source": [
    "from langchain.agents import load_tools\n",
    "\n",
    "# 도구 준비\n",
    "tools = load_tools([\"wolfram-alpha\"])"
   ]
  },
  {
   "cell_type": "code",
   "execution_count": null,
   "metadata": {
    "id": "kt3zxJFOPOrv"
   },
   "outputs": [],
   "source": [
    "from langchain.chains.conversation.memory import ConversationBufferMemory\n",
    "\n",
    "# 메모리 생성\n",
    "memory = ConversationBufferMemory(\n",
    "    memory_key=\"chat_history\", \n",
    "    return_messages=True\n",
    ")"
   ]
  },
  {
   "cell_type": "code",
   "execution_count": null,
   "metadata": {
    "id": "MARJJ2NuuNvN"
   },
   "outputs": [],
   "source": [
    "from langchain.agents import initialize_agent\n",
    "from langchain.chat_models import ChatOpenAI\n",
    "\n",
    "# 에이전트 생성\n",
    "agent = initialize_agent(\n",
    "    agent=\"zero-shot-react-description\",\n",
    "    llm=ChatOpenAI(temperature=0), \n",
    "    tools=tools,\n",
    "    memory=memory,\n",
    "    verbose=True\n",
    ")"
   ]
  },
  {
   "cell_type": "code",
   "execution_count": null,
   "metadata": {
    "id": "YYNcRn7PuN2y"
   },
   "outputs": [],
   "source": [
    "# 에이전트 실행\n",
    "agent.run(\"How many kilometers is the distance from Seoul to Busan?\")"
   ]
  }
 ],
 "metadata": {
  "colab": {
   "authorship_tag": "ABX9TyMu6eqYjOEgF1EgzFIJlr7X",
   "gpuType": "T4",
   "provenance": []
  },
  "kernelspec": {
   "display_name": "Python 3 (ipykernel)",
   "language": "python",
   "name": "python3"
  },
  "language_info": {
   "codemirror_mode": {
    "name": "ipython",
    "version": 3
   },
   "file_extension": ".py",
   "mimetype": "text/x-python",
   "name": "python",
   "nbconvert_exporter": "python",
   "pygments_lexer": "ipython3",
   "version": "3.11.3"
  }
 },
 "nbformat": 4,
 "nbformat_minor": 1
}
