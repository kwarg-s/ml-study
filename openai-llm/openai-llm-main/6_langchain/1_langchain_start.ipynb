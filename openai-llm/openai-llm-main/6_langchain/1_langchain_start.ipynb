{
 "cells": [
  {
   "cell_type": "markdown",
   "metadata": {
    "id": "aQ2KGyLJ99Yi"
   },
   "source": [
    "# 랭체인 사전 준비"
   ]
  },
  {
   "cell_type": "code",
   "execution_count": null,
   "metadata": {
    "id": "mkPbwp6-ploX"
   },
   "outputs": [],
   "source": [
    "# 패키지 설치\n",
    "!pip install langchain==0.0.181\n",
    "!pip install openai"
   ]
  },
  {
   "cell_type": "code",
   "execution_count": null,
   "metadata": {
    "id": "_Gf8Rfw2MiG_"
   },
   "outputs": [],
   "source": [
    "# 환경변수 준비\n",
    "import os\n",
    "os.environ[\"OPENAI_API_KEY\"] = \"<OpenAI_API의 API키>\""
   ]
  },
  {
   "cell_type": "markdown",
   "metadata": {
    "id": "YPJ2lQW0-J3a"
   },
   "source": [
    "# LLM"
   ]
  },
  {
   "cell_type": "code",
   "execution_count": null,
   "metadata": {
    "id": "YBYKjuiZBAXn"
   },
   "outputs": [],
   "source": [
    "from langchain.llms import OpenAI\n",
    "\n",
    "# LLM 준비\n",
    "llm = OpenAI(temperature=0.9)\n",
    "\n",
    "# LLM 호출\n",
    "print(llm(\"컴퓨터 게임을 만드는 새로운 한국어 회사명을 하나 제안해 주세요\"))"
   ]
  },
  {
   "cell_type": "markdown",
   "metadata": {
    "id": "G5eQoz9kBBQs"
   },
   "source": [
    "# 프롬프트 템플릿"
   ]
  },
  {
   "cell_type": "code",
   "execution_count": null,
   "metadata": {
    "id": "nMYoyMqqBAZr"
   },
   "outputs": [],
   "source": [
    "from langchain.prompts import PromptTemplate\n",
    "from langchain.chains import LLMChain\n",
    "\n",
    "# 프롬프트 템플릿 만들기\n",
    "prompt = PromptTemplate(\n",
    "    input_variables=[\"product\"],\n",
    "    template=\"{product}을 만드는 새로운 한국어 회사명을 하나 제안해 주세요\",\n",
    ")\n",
    "\n",
    "# 프롬프트 생성\n",
    "print(prompt.format(product=\"가정용 로봇\"))"
   ]
  },
  {
   "cell_type": "markdown",
   "metadata": {
    "id": "LOx3wED7CIwt"
   },
   "source": [
    "# 체인"
   ]
  },
  {
   "cell_type": "code",
   "execution_count": null,
   "metadata": {
    "id": "m1gZNBQ2BAbQ"
   },
   "outputs": [],
   "source": [
    "from langchain.chains import LLMChain\n",
    "from langchain.llms import OpenAI\n",
    "from langchain.prompts import PromptTemplate\n",
    "\n",
    "# 프롬프트 템플릿 만들기\n",
    "prompt = PromptTemplate(\n",
    "    input_variables=[\"product\"],\n",
    "    template=\"{product}을 만드는 새로운 한국어 회사명을 하나 제안해 주세요\",\n",
    ")\n",
    "\n",
    "# 체인 생성\n",
    "chain = LLMChain(\n",
    "    llm=OpenAI(temperature=0.9), \n",
    "    prompt=prompt\n",
    ")\n",
    "\n",
    "# 체인 실행\n",
    "chain.run(\"가정용 로봇\")"
   ]
  },
  {
   "cell_type": "markdown",
   "metadata": {
    "id": "oDEhszx8Dx4W"
   },
   "source": [
    "# 에이전트"
   ]
  },
  {
   "cell_type": "code",
   "execution_count": null,
   "metadata": {
    "id": "jByKt0NQBAdF"
   },
   "outputs": [],
   "source": [
    "# 패키지 설치\n",
    "!pip install google-search-results"
   ]
  },
  {
   "cell_type": "code",
   "execution_count": null,
   "metadata": {
    "id": "aJIkneVzEJhG"
   },
   "outputs": [],
   "source": [
    "# 환경변수 준비\n",
    "import os\n",
    "os.environ[\"SERPAPI_API_KEY\"] = \"<SerpAPI의 API키>\""
   ]
  },
  {
   "cell_type": "code",
   "execution_count": null,
   "metadata": {
    "id": "SP-cqE6_llPj"
   },
   "outputs": [],
   "source": [
    "from langchain.agents import load_tools\n",
    "from langchain.llms import OpenAI\n",
    "\n",
    "# 도구 준비\n",
    "tools = load_tools(\n",
    "    tool_names=[\"serpapi\", \"llm-math\"], \n",
    "    llm=OpenAI(temperature=0)\n",
    ")"
   ]
  },
  {
   "cell_type": "code",
   "execution_count": null,
   "metadata": {
    "id": "3InFazNGBAfM"
   },
   "outputs": [],
   "source": [
    "from langchain.agents import initialize_agent\n",
    "\n",
    "# 에이전트 생성\n",
    "agent = initialize_agent(\n",
    "    agent=\"zero-shot-react-description\",\n",
    "    llm=OpenAI(temperature=0),\n",
    "    tools=tools,\n",
    "    verbose=True\n",
    ")"
   ]
  },
  {
   "cell_type": "code",
   "execution_count": null,
   "metadata": {
    "id": "6AArU7ohEoES"
   },
   "outputs": [],
   "source": [
    "# 에이전트 실행\n",
    "agent.run(\"123*4를 계산기로 계산하세요\")"
   ]
  },
  {
   "cell_type": "code",
   "execution_count": null,
   "metadata": {
    "id": "n3i0Wet3FfG8"
   },
   "outputs": [],
   "source": [
    "# 에이전트 실행\n",
    "agent.run(\"오늘 한국 서울의 날씨를 웹 검색으로 확인하세요\")"
   ]
  },
  {
   "cell_type": "markdown",
   "metadata": {
    "id": "WraXun_BGeTM"
   },
   "source": [
    "# 메모리"
   ]
  },
  {
   "cell_type": "code",
   "execution_count": null,
   "metadata": {
    "id": "yMJK9WtsGfrN"
   },
   "outputs": [],
   "source": [
    "from langchain.chains import ConversationChain\n",
    "from langchain.llms import OpenAI\n",
    "\n",
    "# 대화 체인 생성\n",
    "chain = ConversationChain(\n",
    "    llm=OpenAI(temperature=0),\n",
    "    verbose=True\n",
    ")"
   ]
  },
  {
   "cell_type": "code",
   "execution_count": null,
   "metadata": {
    "id": "1jrh-AF2nZsN"
   },
   "outputs": [],
   "source": [
    "# 체인 실행\n",
    "chain.run(\"우리집 반려견 이름은 보리입니다\")"
   ]
  },
  {
   "cell_type": "code",
   "execution_count": null,
   "metadata": {
    "id": "ObqY-M7AGjCD"
   },
   "outputs": [],
   "source": [
    "# 체인 실행\n",
    "chain.predict(input=\"우리집 반려견 이름을 불러주세요\")"
   ]
  }
 ],
 "metadata": {
  "colab": {
   "authorship_tag": "ABX9TyOAmE2IPFiB/g6gV/uWnAvn",
   "provenance": []
  },
  "kernelspec": {
   "display_name": "Python 3 (ipykernel)",
   "language": "python",
   "name": "python3"
  },
  "language_info": {
   "codemirror_mode": {
    "name": "ipython",
    "version": 3
   },
   "file_extension": ".py",
   "mimetype": "text/x-python",
   "name": "python",
   "nbconvert_exporter": "python",
   "pygments_lexer": "ipython3",
   "version": "3.11.3"
  }
 },
 "nbformat": 4,
 "nbformat_minor": 1
}
