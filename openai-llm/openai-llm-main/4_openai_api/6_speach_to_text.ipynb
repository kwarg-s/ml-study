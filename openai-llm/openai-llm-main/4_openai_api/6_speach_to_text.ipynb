{
 "cells": [
  {
   "cell_type": "markdown",
   "metadata": {
    "id": "gZEzRfryU2Gb"
   },
   "source": [
    "# OpenAI API 사전 준비"
   ]
  },
  {
   "cell_type": "code",
   "execution_count": null,
   "metadata": {
    "id": "mkPbwp6-ploX"
   },
   "outputs": [],
   "source": [
    "# 패키지 설치\n",
    "!pip install openai"
   ]
  },
  {
   "cell_type": "code",
   "execution_count": null,
   "metadata": {
    "id": "_Gf8Rfw2MiG_"
   },
   "outputs": [],
   "source": [
    "# 환경변수 준비\n",
    "import os\n",
    "os.environ[\"OPENAI_API_KEY\"] = \"<OpenAI_API의 API 키>\""
   ]
  },
  {
   "cell_type": "markdown",
   "metadata": {
    "id": "m8livzxDU6cQ"
   },
   "source": [
    "# 음성 텍스트 변환"
   ]
  },
  {
   "cell_type": "code",
   "execution_count": null,
   "metadata": {
    "id": "E1_g9k-1Zr9j"
   },
   "outputs": [],
   "source": [
    "import openai\n",
    "\n",
    "# 음성 텍스트 변환(현재 폴더에 오디오 파일을 업로드해두세요)\n",
    "audio_file= open(\"audio.wav\", \"rb\")\n",
    "transcript = openai.Audio.transcribe(\"whisper-1\", audio_file)\n",
    "print(transcript[\"text\"])"
   ]
  },
  {
   "cell_type": "markdown",
   "metadata": {
    "id": "-T4r7xVoXAdc"
   },
   "source": [
    " # 음성을 영어로 번역해서 텍스트로 변환하기"
   ]
  },
  {
   "cell_type": "code",
   "execution_count": null,
   "metadata": {
    "id": "ACl657swXCwV"
   },
   "outputs": [],
   "source": [
    "import openai\n",
    "\n",
    "# 음성을 영어로 번역하고 텍스트로 변환(현재 폴더에 오디오 파일을 업로드해둡니다)\n",
    "audio_file= open(\"audio.wav\", \"rb\")\n",
    "transcript = openai.Audio.translate(\"whisper-1\", audio_file)"
   ]
  }
 ],
 "metadata": {
  "colab": {
   "authorship_tag": "ABX9TyPtbjmSRNcv1DW9vI0vtQDK",
   "provenance": []
  },
  "kernelspec": {
   "display_name": "Python 3 (ipykernel)",
   "language": "python",
   "name": "python3"
  },
  "language_info": {
   "codemirror_mode": {
    "name": "ipython",
    "version": 3
   },
   "file_extension": ".py",
   "mimetype": "text/x-python",
   "name": "python",
   "nbconvert_exporter": "python",
   "pygments_lexer": "ipython3",
   "version": "3.11.3"
  }
 },
 "nbformat": 4,
 "nbformat_minor": 1
}
