{
 "cells": [
  {
   "cell_type": "markdown",
   "metadata": {
    "id": "LLgDJXeGEAZ0"
   },
   "source": [
    "# 토크나이저 사용"
   ]
  },
  {
   "cell_type": "code",
   "execution_count": null,
   "metadata": {
    "id": "mkPbwp6-ploX"
   },
   "outputs": [],
   "source": [
    "# tiktoken 패키지 설치\n",
    "!pip install tiktoken"
   ]
  },
  {
   "cell_type": "code",
   "execution_count": null,
   "metadata": {
    "id": "vawrIIxPC78P"
   },
   "outputs": [],
   "source": [
    "import tiktoken\n",
    "\n",
    "# 인코딩 획득\n",
    "enc = tiktoken.get_encoding(\"cl100k_base\")"
   ]
  },
  {
   "cell_type": "code",
   "execution_count": null,
   "metadata": {
    "id": "dVwB0Jg7C8AX"
   },
   "outputs": [],
   "source": [
    "# 인코딩 실행\n",
    "tokens = enc.encode(\"Hello World!\")\n",
    "print(len(tokens))\n",
    "print(tokens)"
   ]
  },
  {
   "cell_type": "code",
   "execution_count": null,
   "metadata": {
    "id": "vq9NSv45Dbgk"
   },
   "outputs": [],
   "source": [
    "# 디코딩 실행\n",
    "print(enc.decode(tokens))"
   ]
  },
  {
   "cell_type": "code",
   "execution_count": null,
   "metadata": {
    "id": "igmuphvSC8Ce"
   },
   "outputs": [],
   "source": [
    "# 분할된 상태에서 디코딩 실행\n",
    "print(enc.decode_tokens_bytes(tokens))"
   ]
  },
  {
   "cell_type": "markdown",
   "metadata": {
    "id": "axaY9gEmEHj3"
   },
   "source": [
    "# 한국어와 영어의 토큰 수 비교"
   ]
  },
  {
   "cell_type": "code",
   "execution_count": null,
   "metadata": {
    "id": "TyVoTmvqDj0o"
   },
   "outputs": [],
   "source": [
    "# 인코딩 실행\n",
    "tokens = enc.encode(\"안녕, 세상아!\")\n",
    "print(len(tokens))\n",
    "print(tokens)"
   ]
  },
  {
   "cell_type": "code",
   "execution_count": null,
   "metadata": {
    "id": "c05MmxdaDj5z"
   },
   "outputs": [],
   "source": [
    "# 디코딩 실행\n",
    "print(enc.decode(tokens))"
   ]
  },
  {
   "cell_type": "code",
   "execution_count": null,
   "metadata": {
    "id": "KBrTkuN4EcEP"
   },
   "outputs": [],
   "source": [
    "# 분할된 상태로 디코딩\n",
    "def data2str(data):\n",
    "    try:\n",
    "        return data.decode('utf-8')\n",
    "    except UnicodeError:\n",
    "        return data\n",
    "print([data2str(data) for data in enc.decode_tokens_bytes(tokens)])"
   ]
  },
  {
   "cell_type": "markdown",
   "metadata": {
    "id": "LgSwhFRUGgDv"
   },
   "source": [
    "# 인코딩 확인"
   ]
  },
  {
   "cell_type": "code",
   "execution_count": null,
   "metadata": {
    "id": "PziaPdA9GiMJ"
   },
   "outputs": [],
   "source": [
    "import tiktoken\n",
    "\n",
    "# 인코딩 확인\n",
    "print(tiktoken.encoding_for_model(\"gpt-4\"))"
   ]
  }
 ],
 "metadata": {
  "colab": {
   "authorship_tag": "ABX9TyOzgYhw8QYFdz/ukfNfurGN",
   "provenance": []
  },
  "kernelspec": {
   "display_name": "Python 3 (ipykernel)",
   "language": "python",
   "name": "python3"
  },
  "language_info": {
   "codemirror_mode": {
    "name": "ipython",
    "version": 3
   },
   "file_extension": ".py",
   "mimetype": "text/x-python",
   "name": "python",
   "nbconvert_exporter": "python",
   "pygments_lexer": "ipython3",
   "version": "3.11.3"
  }
 },
 "nbformat": 4,
 "nbformat_minor": 1
}
