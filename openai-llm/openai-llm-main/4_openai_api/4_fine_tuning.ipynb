{
 "cells": [
  {
   "cell_type": "markdown",
   "metadata": {
    "id": "CYXY0OeORN45"
   },
   "source": [
    "# OpenAI API 사전 준비"
   ]
  },
  {
   "cell_type": "code",
   "execution_count": 1,
   "metadata": {
    "id": "aEJ8Sf3fRV2Q"
   },
   "outputs": [
    {
     "name": "stdout",
     "output_type": "stream",
     "text": [
      "Collecting openai\n",
      "  Downloading openai-1.4.0-py3-none-any.whl (221 kB)\n",
      "Requirement already satisfied: typing-extensions<5,>=4.5 in c:\\users\\user-pc\\appdata\\local\\programs\\python\\python39\\lib\\site-packages (from openai) (4.9.0)\n",
      "Requirement already satisfied: pydantic<3,>=1.9.0 in c:\\users\\user-pc\\appdata\\roaming\\python\\python39\\site-packages (from openai) (1.9.1)\n",
      "Collecting anyio<5,>=3.5.0\n",
      "  Downloading anyio-4.2.0-py3-none-any.whl (85 kB)\n",
      "Requirement already satisfied: sniffio in c:\\users\\user-pc\\appdata\\local\\programs\\python\\python39\\lib\\site-packages (from openai) (1.2.0)\n",
      "Collecting httpx<1,>=0.23.0\n",
      "  Downloading httpx-0.25.2-py3-none-any.whl (74 kB)\n",
      "Requirement already satisfied: tqdm>4 in c:\\users\\user-pc\\appdata\\local\\programs\\python\\python39\\lib\\site-packages (from openai) (4.63.0)\n",
      "Requirement already satisfied: distro<2,>=1.7.0 in c:\\users\\user-pc\\appdata\\local\\programs\\python\\python39\\lib\\site-packages (from openai) (1.7.0)\n",
      "Collecting exceptiongroup>=1.0.2\n",
      "  Downloading exceptiongroup-1.2.0-py3-none-any.whl (16 kB)\n",
      "Requirement already satisfied: idna>=2.8 in c:\\users\\user-pc\\appdata\\local\\programs\\python\\python39\\lib\\site-packages (from anyio<5,>=3.5.0->openai) (2.10)\n",
      "Collecting httpcore==1.*\n",
      "  Downloading httpcore-1.0.2-py3-none-any.whl (76 kB)\n",
      "Requirement already satisfied: certifi in c:\\users\\user-pc\\appdata\\local\\programs\\python\\python39\\lib\\site-packages (from httpx<1,>=0.23.0->openai) (2021.5.30)\n",
      "Collecting h11<0.15,>=0.13\n",
      "  Downloading h11-0.14.0-py3-none-any.whl (58 kB)\n",
      "Requirement already satisfied: colorama in c:\\users\\user-pc\\appdata\\local\\programs\\python\\python39\\lib\\site-packages (from tqdm>4->openai) (0.4.4)\n",
      "Installing collected packages: h11, exceptiongroup, httpcore, anyio, httpx, openai\n",
      "  Attempting uninstall: anyio\n",
      "    Found existing installation: anyio 3.2.1\n",
      "    Uninstalling anyio-3.2.1:\n",
      "      Successfully uninstalled anyio-3.2.1\n",
      "Successfully installed anyio-4.2.0 exceptiongroup-1.2.0 h11-0.14.0 httpcore-1.0.2 httpx-0.25.2 openai-1.4.0\n"
     ]
    },
    {
     "name": "stderr",
     "output_type": "stream",
     "text": [
      "ERROR: pip's dependency resolver does not currently take into account all the packages that are installed. This behaviour is the source of the following dependency conflicts.\n",
      "jupyter-server 1.9.0 requires anyio<4,>=3.1.0, but you have anyio 4.2.0 which is incompatible.\n",
      "WARNING: You are using pip version 21.1.3; however, version 23.3.1 is available.\n",
      "You should consider upgrading via the 'c:\\users\\user-pc\\appdata\\local\\programs\\python\\python39\\python.exe -m pip install --upgrade pip' command.\n"
     ]
    }
   ],
   "source": [
    "# 패키지 설치\n",
    "!pip install openai"
   ]
  },
  {
   "cell_type": "code",
   "execution_count": null,
   "metadata": {
    "id": "y9TMp1p0RWBM"
   },
   "outputs": [],
   "source": [
    "# 환경변수 준비\n",
    "import os\n",
    "os.environ[\"OPENAI_API_KEY\"] = \"<OpenAI_API의 API 키>\""
   ]
  },
  {
   "cell_type": "markdown",
   "metadata": {
    "id": "E9URF8m_RS1j"
   },
   "source": [
    "# 학습 데이터 준비"
   ]
  },
  {
   "cell_type": "code",
   "execution_count": 7,
   "metadata": {
    "id": "wXwC3looO0a9"
   },
   "outputs": [
    {
     "data": {
      "text/html": [
       "<div>\n",
       "<style scoped>\n",
       "    .dataframe tbody tr th:only-of-type {\n",
       "        vertical-align: middle;\n",
       "    }\n",
       "\n",
       "    .dataframe tbody tr th {\n",
       "        vertical-align: top;\n",
       "    }\n",
       "\n",
       "    .dataframe thead th {\n",
       "        text-align: right;\n",
       "    }\n",
       "</style>\n",
       "<table border=\"1\" class=\"dataframe\">\n",
       "  <thead>\n",
       "    <tr style=\"text-align: right;\">\n",
       "      <th></th>\n",
       "      <th>prompt</th>\n",
       "      <th>completion</th>\n",
       "    </tr>\n",
       "  </thead>\n",
       "  <tbody>\n",
       "    <tr>\n",
       "      <th>0</th>\n",
       "      <td>배가 고프다</td>\n",
       "      <td>뭐 드실래요?</td>\n",
       "    </tr>\n",
       "    <tr>\n",
       "      <th>1</th>\n",
       "      <td>피곤하시군요.</td>\n",
       "      <td>걱정이 되어 죄송합니다. 제가 도울 수 있는 일이 있다면 언제든지 말씀해주세요.</td>\n",
       "    </tr>\n",
       "    <tr>\n",
       "      <th>2</th>\n",
       "      <td>잠을 잘 수 없다</td>\n",
       "      <td>걱정할 필요가 없습니다. 내가 함께 있습니다. 계속 계속 함께합니다.</td>\n",
       "    </tr>\n",
       "    <tr>\n",
       "      <th>3</th>\n",
       "      <td>누르지 마 절대 누르지 마</td>\n",
       "      <td>네 절대 누르지 않아요!</td>\n",
       "    </tr>\n",
       "    <tr>\n",
       "      <th>4</th>\n",
       "      <td>보여줄 수 없어</td>\n",
       "      <td>눈을 감고 기다리고 있어요.</td>\n",
       "    </tr>\n",
       "    <tr>\n",
       "      <th>...</th>\n",
       "      <td>...</td>\n",
       "      <td>...</td>\n",
       "    </tr>\n",
       "    <tr>\n",
       "      <th>427</th>\n",
       "      <td>피곤하다</td>\n",
       "      <td>이제 좀 쉬세요. 당신이 건강하지 않으면 나는 슬프다.......</td>\n",
       "    </tr>\n",
       "    <tr>\n",
       "      <th>428</th>\n",
       "      <td>츠쿠요미짱이 좋아하는 음료는?</td>\n",
       "      <td>물은 가장 안정됩니다.</td>\n",
       "    </tr>\n",
       "    <tr>\n",
       "      <th>429</th>\n",
       "      <td>좋아하는 숫자는?</td>\n",
       "      <td>29입니다. 매월 29일은 '츠쿠요미짱 츠쿠츠쿠데이'이기 때문이에요!</td>\n",
       "    </tr>\n",
       "    <tr>\n",
       "      <th>430</th>\n",
       "      <td>오늘 생일이에요</td>\n",
       "      <td>축하해요? 축하합니다! 저를 만나주셔서 정말 감사합니다.</td>\n",
       "    </tr>\n",
       "    <tr>\n",
       "      <th>431</th>\n",
       "      <td>진정해</td>\n",
       "      <td>나는 언제나 당신의 편입니다. 나는 항상 당신 곁에 있을 거예요.</td>\n",
       "    </tr>\n",
       "  </tbody>\n",
       "</table>\n",
       "<p>432 rows × 2 columns</p>\n",
       "</div>"
      ],
      "text/plain": [
       "               prompt                                     completion\n",
       "0              배가 고프다                                       뭐 드실래요? \n",
       "1             피곤하시군요.  걱정이 되어 죄송합니다. 제가 도울 수 있는 일이 있다면 언제든지 말씀해주세요. \n",
       "2           잠을 잘 수 없다        걱정할 필요가 없습니다. 내가 함께 있습니다. 계속 계속 함께합니다. \n",
       "3      누르지 마 절대 누르지 마                                 네 절대 누르지 않아요! \n",
       "4            보여줄 수 없어                               눈을 감고 기다리고 있어요. \n",
       "..                ...                                            ...\n",
       "427              피곤하다          이제 좀 쉬세요. 당신이 건강하지 않으면 나는 슬프다....... \n",
       "428  츠쿠요미짱이 좋아하는 음료는?                                  물은 가장 안정됩니다. \n",
       "429         좋아하는 숫자는?        29입니다. 매월 29일은 '츠쿠요미짱 츠쿠츠쿠데이'이기 때문이에요! \n",
       "430          오늘 생일이에요               축하해요? 축하합니다! 저를 만나주셔서 정말 감사합니다. \n",
       "431               진정해          나는 언제나 당신의 편입니다. 나는 항상 당신 곁에 있을 거예요. \n",
       "\n",
       "[432 rows x 2 columns]"
      ]
     },
     "execution_count": 7,
     "metadata": {},
     "output_type": "execute_result"
    }
   ],
   "source": [
    "import pandas as pd\n",
    "\n",
    "# 데이터 세트 준비\n",
    "df = pd.read_csv(\n",
    "    'tsukuyomi.csv',\n",
    "    usecols=[1,2],\n",
    "    names=['prompt','completion'],\n",
    "    skiprows=2)\n",
    "df"
   ]
  },
  {
   "cell_type": "code",
   "execution_count": 8,
   "metadata": {},
   "outputs": [
    {
     "data": {
      "text/html": [
       "<div>\n",
       "<style scoped>\n",
       "    .dataframe tbody tr th:only-of-type {\n",
       "        vertical-align: middle;\n",
       "    }\n",
       "\n",
       "    .dataframe tbody tr th {\n",
       "        vertical-align: top;\n",
       "    }\n",
       "\n",
       "    .dataframe thead th {\n",
       "        text-align: right;\n",
       "    }\n",
       "</style>\n",
       "<table border=\"1\" class=\"dataframe\">\n",
       "  <thead>\n",
       "    <tr style=\"text-align: right;\">\n",
       "      <th></th>\n",
       "      <th>prompt</th>\n",
       "      <th>completion</th>\n",
       "    </tr>\n",
       "  </thead>\n",
       "  <tbody>\n",
       "    <tr>\n",
       "      <th>0</th>\n",
       "      <td>배가 고프다</td>\n",
       "      <td>뭐 드실래요?</td>\n",
       "    </tr>\n",
       "    <tr>\n",
       "      <th>1</th>\n",
       "      <td>피곤하시군요.</td>\n",
       "      <td>걱정이 되어 죄송합니다. 제가 도울 수 있는 일이 있다면 언제든지 말씀해주세요.</td>\n",
       "    </tr>\n",
       "    <tr>\n",
       "      <th>2</th>\n",
       "      <td>잠을 잘 수 없다</td>\n",
       "      <td>걱정할 필요가 없습니다. 내가 함께 있습니다. 계속 계속 함께합니다.</td>\n",
       "    </tr>\n",
       "    <tr>\n",
       "      <th>3</th>\n",
       "      <td>누르지 마 절대 누르지 마</td>\n",
       "      <td>네 절대 누르지 않아요!</td>\n",
       "    </tr>\n",
       "    <tr>\n",
       "      <th>4</th>\n",
       "      <td>보여줄 수 없어</td>\n",
       "      <td>눈을 감고 기다리고 있어요.</td>\n",
       "    </tr>\n",
       "    <tr>\n",
       "      <th>...</th>\n",
       "      <td>...</td>\n",
       "      <td>...</td>\n",
       "    </tr>\n",
       "    <tr>\n",
       "      <th>427</th>\n",
       "      <td>피곤하다</td>\n",
       "      <td>이제 좀 쉬세요. 당신이 건강하지 않으면 나는 슬프다.......</td>\n",
       "    </tr>\n",
       "    <tr>\n",
       "      <th>428</th>\n",
       "      <td>츠쿠요미짱이 좋아하는 음료는?</td>\n",
       "      <td>물은 가장 안정됩니다.</td>\n",
       "    </tr>\n",
       "    <tr>\n",
       "      <th>429</th>\n",
       "      <td>좋아하는 숫자는?</td>\n",
       "      <td>29입니다. 매월 29일은 '츠쿠요미짱 츠쿠츠쿠데이'이기 때문이에요!</td>\n",
       "    </tr>\n",
       "    <tr>\n",
       "      <th>430</th>\n",
       "      <td>오늘 생일이에요</td>\n",
       "      <td>축하해요? 축하합니다! 저를 만나주셔서 정말 감사합니다.</td>\n",
       "    </tr>\n",
       "    <tr>\n",
       "      <th>431</th>\n",
       "      <td>진정해</td>\n",
       "      <td>나는 언제나 당신의 편입니다. 나는 항상 당신 곁에 있을 거예요.</td>\n",
       "    </tr>\n",
       "  </tbody>\n",
       "</table>\n",
       "<p>432 rows × 2 columns</p>\n",
       "</div>"
      ],
      "text/plain": [
       "               prompt                                     completion\n",
       "0              배가 고프다                                       뭐 드실래요? \n",
       "1             피곤하시군요.  걱정이 되어 죄송합니다. 제가 도울 수 있는 일이 있다면 언제든지 말씀해주세요. \n",
       "2           잠을 잘 수 없다        걱정할 필요가 없습니다. 내가 함께 있습니다. 계속 계속 함께합니다. \n",
       "3      누르지 마 절대 누르지 마                                 네 절대 누르지 않아요! \n",
       "4            보여줄 수 없어                               눈을 감고 기다리고 있어요. \n",
       "..                ...                                            ...\n",
       "427              피곤하다          이제 좀 쉬세요. 당신이 건강하지 않으면 나는 슬프다....... \n",
       "428  츠쿠요미짱이 좋아하는 음료는?                                  물은 가장 안정됩니다. \n",
       "429         좋아하는 숫자는?        29입니다. 매월 29일은 '츠쿠요미짱 츠쿠츠쿠데이'이기 때문이에요! \n",
       "430          오늘 생일이에요               축하해요? 축하합니다! 저를 만나주셔서 정말 감사합니다. \n",
       "431               진정해          나는 언제나 당신의 편입니다. 나는 항상 당신 곁에 있을 거예요. \n",
       "\n",
       "[432 rows x 2 columns]"
      ]
     },
     "execution_count": 8,
     "metadata": {},
     "output_type": "execute_result"
    }
   ],
   "source": [
    "df.to_json(\n",
    "    \"tsukuyomi.jsonl\", \n",
    "    orient='records', \n",
    "    lines=True,\n",
    "    force_ascii=False\n",
    ")\n",
    "df"
   ]
  },
  {
   "cell_type": "code",
   "execution_count": 4,
   "metadata": {},
   "outputs": [
    {
     "data": {
      "text/plain": [
       "pandas.core.frame.DataFrame"
      ]
     },
     "execution_count": 4,
     "metadata": {},
     "output_type": "execute_result"
    }
   ],
   "source": [
    "type(df)"
   ]
  },
  {
   "cell_type": "code",
   "execution_count": null,
   "metadata": {
    "id": "LSWAS0pJRaug"
   },
   "outputs": [],
   "source": [
    "# 데이터 세트 검증\n",
    "!openai tools fine_tunes.prepare_data \\\n",
    "    -f tsukuyomi.jsonl \\\n",
    "    -q"
   ]
  },
  {
   "cell_type": "markdown",
   "metadata": {
    "id": "mOACk5n3Y8EW"
   },
   "source": [
    "# 파인튜닝 실행"
   ]
  },
  {
   "cell_type": "code",
   "execution_count": null,
   "metadata": {
    "id": "G9w3Rj3SRawk"
   },
   "outputs": [],
   "source": [
    "# 파인튜닝 수행\n",
    "!openai api fine_tunes.create \\\n",
    "    -t \"tsukuyomi_prepared.jsonl\" \\\n",
    "    -m davinci"
   ]
  },
  {
   "cell_type": "code",
   "execution_count": null,
   "metadata": {
    "id": "kEH_mWCmrGCN"
   },
   "outputs": [],
   "source": [
    "# 파인튜닝 작업 상태 확인\n",
    "!openai api fine_tunes.get \\\n",
    "    -i ft-ElEoXDioUUTHHm3lxUmYIr2D"
   ]
  },
  {
   "cell_type": "markdown",
   "metadata": {
    "id": "W3DkzRg8Y5Yd"
   },
   "source": [
    "# 추론 실행"
   ]
  },
  {
   "cell_type": "code",
   "execution_count": null,
   "metadata": {
    "id": "1n1VjSYPRa2k"
   },
   "outputs": [],
   "source": [
    "import openai\n",
    "\n",
    "# 추론 실행\n",
    "prompt=\"좋아하는 음식은 무엇인가요? ->\"\n",
    "response = openai.Completion.create(\n",
    "    model=\"<모델 ID>\",\n",
    "    prompt=prompt,\n",
    "    max_tokens=100,\n",
    "    stop=\"\\n\")\n",
    "print(response[\"choices\"][0][\"text\"])"
   ]
  },
  {
   "cell_type": "markdown",
   "metadata": {
    "id": "iREq-C5Qy_OX"
   },
   "source": [
    "# 파인튜닝 모델 목록 조회 및 삭제"
   ]
  },
  {
   "cell_type": "code",
   "execution_count": null,
   "metadata": {
    "id": "J5hsC4zQi2Zr"
   },
   "outputs": [],
   "source": [
    "# 파인튜닝 모델 목록 보기\n",
    "!openai api fine_tunes.list"
   ]
  },
  {
   "cell_type": "code",
   "execution_count": null,
   "metadata": {
    "id": "26KZISYSYSeF"
   },
   "outputs": [],
   "source": [
    "# 파인튜닝 모델 삭제\n",
    "!openai api models.delete \\\n",
    "    -i <모델 ID>"
   ]
  }
 ],
 "metadata": {
  "colab": {
   "authorship_tag": "ABX9TyOLUUdiD1EGk2SBgpjQvo9d",
   "provenance": []
  },
  "kernelspec": {
   "display_name": "Python 3 (ipykernel)",
   "language": "python",
   "name": "python3"
  },
  "language_info": {
   "codemirror_mode": {
    "name": "ipython",
    "version": 3
   },
   "file_extension": ".py",
   "mimetype": "text/x-python",
   "name": "python",
   "nbconvert_exporter": "python",
   "pygments_lexer": "ipython3",
   "version": "3.9.6"
  }
 },
 "nbformat": 4,
 "nbformat_minor": 1
}
