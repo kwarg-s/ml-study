{
 "cells": [
  {
   "cell_type": "markdown",
   "metadata": {
    "id": "CYXY0OeORN45"
   },
   "source": [
    "# OpenAI API 사전 준비"
   ]
  },
  {
   "cell_type": "code",
   "execution_count": null,
   "metadata": {
    "id": "aEJ8Sf3fRV2Q"
   },
   "outputs": [],
   "source": [
    "# 패키지 설치\n",
    "!pip install openai"
   ]
  },
  {
   "cell_type": "code",
   "execution_count": null,
   "metadata": {
    "id": "y9TMp1p0RWBM"
   },
   "outputs": [],
   "source": [
    "# 환경변수 준비\n",
    "import os\n",
    "os.environ[\"OPENAI_API_KEY\"] = \"<OpenAI_API의 API 키>\""
   ]
  },
  {
   "cell_type": "markdown",
   "metadata": {
    "id": "E9URF8m_RS1j"
   },
   "source": [
    "# 학습 데이터 준비"
   ]
  },
  {
   "cell_type": "code",
   "execution_count": null,
   "metadata": {
    "id": "wXwC3looO0a9"
   },
   "outputs": [],
   "source": [
    "import pandas as pd\n",
    "\n",
    "# 데이터 세트 준비\n",
    "df = pd.read_csv(\n",
    "    'tsukuyomi.csv',\n",
    "    usecols=[1,2],\n",
    "    names=['prompt','completion'],\n",
    "    skiprows=2)\n",
    "df.to_json(\n",
    "    \"tsukuyomi.jsonl\", \n",
    "    orient='records', \n",
    "    lines=True,\n",
    "    force_ascii=False\n",
    ")"
   ]
  },
  {
   "cell_type": "code",
   "execution_count": null,
   "metadata": {
    "id": "LSWAS0pJRaug"
   },
   "outputs": [],
   "source": [
    "# 데이터 세트 검증\n",
    "!openai tools fine_tunes.prepare_data \\\n",
    "    -f tsukuyomi.jsonl \\\n",
    "    -q"
   ]
  },
  {
   "cell_type": "markdown",
   "metadata": {
    "id": "mOACk5n3Y8EW"
   },
   "source": [
    "# 파인튜닝 실행"
   ]
  },
  {
   "cell_type": "code",
   "execution_count": null,
   "metadata": {
    "id": "G9w3Rj3SRawk"
   },
   "outputs": [],
   "source": [
    "# 파인튜닝 수행\n",
    "!openai api fine_tunes.create \\\n",
    "    -t \"tsukuyomi_prepared.jsonl\" \\\n",
    "    -m davinci"
   ]
  },
  {
   "cell_type": "code",
   "execution_count": null,
   "metadata": {
    "id": "kEH_mWCmrGCN"
   },
   "outputs": [],
   "source": [
    "# 파인튜닝 작업 상태 확인\n",
    "!openai api fine_tunes.get \\\n",
    "    -i ft-ElEoXDioUUTHHm3lxUmYIr2D"
   ]
  },
  {
   "cell_type": "markdown",
   "metadata": {
    "id": "W3DkzRg8Y5Yd"
   },
   "source": [
    "# 추론 실행"
   ]
  },
  {
   "cell_type": "code",
   "execution_count": null,
   "metadata": {
    "id": "1n1VjSYPRa2k"
   },
   "outputs": [],
   "source": [
    "import openai\n",
    "\n",
    "# 추론 실행\n",
    "prompt=\"좋아하는 음식은 무엇인가요? ->\"\n",
    "response = openai.Completion.create(\n",
    "    model=\"<모델 ID>\",\n",
    "    prompt=prompt,\n",
    "    max_tokens=100,\n",
    "    stop=\"\\n\")\n",
    "print(response[\"choices\"][0][\"text\"])"
   ]
  },
  {
   "cell_type": "markdown",
   "metadata": {
    "id": "iREq-C5Qy_OX"
   },
   "source": [
    "# 파인튜닝 모델 목록 조회 및 삭제"
   ]
  },
  {
   "cell_type": "code",
   "execution_count": null,
   "metadata": {
    "id": "J5hsC4zQi2Zr"
   },
   "outputs": [],
   "source": [
    "# 파인튜닝 모델 목록 보기\n",
    "!openai api fine_tunes.list"
   ]
  },
  {
   "cell_type": "code",
   "execution_count": null,
   "metadata": {
    "id": "26KZISYSYSeF"
   },
   "outputs": [],
   "source": [
    "# 파인튜닝 모델 삭제\n",
    "!openai api models.delete \\\n",
    "    -i <모델 ID>"
   ]
  }
 ],
 "metadata": {
  "colab": {
   "authorship_tag": "ABX9TyOLUUdiD1EGk2SBgpjQvo9d",
   "provenance": []
  },
  "kernelspec": {
   "display_name": "Python 3 (ipykernel)",
   "language": "python",
   "name": "python3"
  },
  "language_info": {
   "codemirror_mode": {
    "name": "ipython",
    "version": 3
   },
   "file_extension": ".py",
   "mimetype": "text/x-python",
   "name": "python",
   "nbconvert_exporter": "python",
   "pygments_lexer": "ipython3",
   "version": "3.11.3"
  }
 },
 "nbformat": 4,
 "nbformat_minor": 1
}
