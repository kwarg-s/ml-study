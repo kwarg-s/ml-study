{
 "cells": [
  {
   "cell_type": "markdown",
   "metadata": {
    "id": "SNmMI2qYaf2-"
   },
   "source": [
    "# OpenAI API 사전 준비"
   ]
  },
  {
   "cell_type": "code",
   "execution_count": null,
   "metadata": {
    "id": "mkPbwp6-ploX"
   },
   "outputs": [],
   "source": [
    "# 패키지 설치\n",
    "!pip install openai"
   ]
  },
  {
   "cell_type": "code",
   "execution_count": null,
   "metadata": {
    "id": "_Gf8Rfw2MiG_"
   },
   "outputs": [],
   "source": [
    "# 환경변수 준비\n",
    "import os\n",
    "os.environ[\"OPENAI_API_KEY\"] = \"<OpenAI_API의 API 키>\""
   ]
  },
  {
   "cell_type": "markdown",
   "metadata": {
    "id": "3myrlUMNajp7"
   },
   "source": [
    "# 임베딩 생성"
   ]
  },
  {
   "cell_type": "code",
   "execution_count": null,
   "metadata": {
    "id": "E1_g9k-1Zr9j"
   },
   "outputs": [],
   "source": [
    "# 임베딩을 생성할 텍스트 준비\n",
    "text = \"이것은 테스트입니다.\""
   ]
  },
  {
   "cell_type": "code",
   "execution_count": null,
   "metadata": {
    "id": "LMdGRfoOam_v"
   },
   "outputs": [],
   "source": [
    "import openai\n",
    "\n",
    "# 텍스트로부터 임베딩 생성\n",
    "response = openai.Embedding.create(\n",
    "    input=text, \n",
    "    model=\"text-embedding-ada-002\"\n",
    ")\n",
    "\n",
    "# 확인\n",
    "print(len(response[\"data\"][0][\"embedding\"]))\n",
    "print(response[\"data\"][0][\"embedding\"])"
   ]
  },
  {
   "cell_type": "code",
   "execution_count": null,
   "metadata": {
    "id": "IjiFCorXbfUL"
   },
   "outputs": [],
   "source": [
    "print(response)"
   ]
  },
  {
   "cell_type": "markdown",
   "metadata": {
    "id": "YkgIA_xQf8zz"
   },
   "source": [
    "# 유사도 검색"
   ]
  },
  {
   "cell_type": "code",
   "execution_count": null,
   "metadata": {
    "id": "LmqWEPqef-yH"
   },
   "outputs": [],
   "source": [
    "# Faiss 패키지 설치\n",
    "!pip install faiss-gpu"
   ]
  },
  {
   "cell_type": "code",
   "execution_count": null,
   "metadata": {
    "id": "IRFfKBy9gZVo"
   },
   "outputs": [],
   "source": [
    "import openai\n",
    "import numpy as np\n",
    "\n",
    "# 입력 텍스트의 임베딩 생성\n",
    "in_text = \"오늘은 비가 오지 않아서 다행이다.\"\n",
    "response = openai.Embedding.create(\n",
    "    input=in_text, \n",
    "    model=\"text-embedding-ada-002\"\n",
    ")\n",
    "in_embeds = [record[\"embedding\"] for record in response[\"data\"]]\n",
    "in_embeds = np.array(in_embeds).astype(\"float32\")\n",
    "\n",
    "# 대상 텍스트의 임베딩 생성\n",
    "target_texts = [\n",
    "    \"좋아하는 음식은 무엇인가요?\",\n",
    "    \"어디에 살고 계신가요?\",\n",
    "    \"아침 전철은 혼잡하네요.\",\n",
    "    \"오늘은 날씨가 좋네요!\",\n",
    "    \"요즘 경기가 좋지 않네요.\"]\n",
    "response = openai.Embedding.create(\n",
    "    input=target_texts, \n",
    "    model=\"text-embedding-ada-002\"\n",
    ")\n",
    "target_embeds = [record[\"embedding\"] for record in response[\"data\"]]\n",
    "target_embeds = np.array(target_embeds).astype(\"float32\")"
   ]
  },
  {
   "cell_type": "code",
   "execution_count": null,
   "metadata": {
    "id": "XWD1Jh3ig6CG"
   },
   "outputs": [],
   "source": [
    "import faiss\n",
    "\n",
    "# Faiss의 인덱스 생성\n",
    "index = faiss.IndexFlatL2(1536)"
   ]
  },
  {
   "cell_type": "code",
   "execution_count": null,
   "metadata": {
    "id": "J4KpRn2CkCll"
   },
   "outputs": [],
   "source": [
    "# 대상 텍스트를 인덱스에 추가\n",
    "index.add(target_embeds)"
   ]
  },
  {
   "cell_type": "code",
   "execution_count": null,
   "metadata": {
    "id": "zIK27RXzkJqN"
   },
   "outputs": [],
   "source": [
    "# 유사도 검색 수행\n",
    "D, I = index.search(in_embeds, 1)\n",
    "\n",
    "# 확인\n",
    "print(D)\n",
    "print(I)\n",
    "print(target_texts[I[0][0]])"
   ]
  }
 ],
 "metadata": {
  "colab": {
   "authorship_tag": "ABX9TyMVD9aB26CeO3gUdxUrQtzm",
   "provenance": []
  },
  "kernelspec": {
   "display_name": "Python 3 (ipykernel)",
   "language": "python",
   "name": "python3"
  },
  "language_info": {
   "codemirror_mode": {
    "name": "ipython",
    "version": 3
   },
   "file_extension": ".py",
   "mimetype": "text/x-python",
   "name": "python",
   "nbconvert_exporter": "python",
   "pygments_lexer": "ipython3",
   "version": "3.11.3"
  }
 },
 "nbformat": 4,
 "nbformat_minor": 1
}
