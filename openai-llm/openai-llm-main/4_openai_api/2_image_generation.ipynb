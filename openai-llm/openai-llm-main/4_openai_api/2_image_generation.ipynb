{
 "cells": [
  {
   "cell_type": "markdown",
   "metadata": {
    "id": "WZC3RrwLWv_O"
   },
   "source": [
    "# OpenAI API 사전 준비"
   ]
  },
  {
   "cell_type": "code",
   "execution_count": null,
   "metadata": {
    "id": "mkPbwp6-ploX"
   },
   "outputs": [],
   "source": [
    "# 패키지 설치\n",
    "!pip install openai"
   ]
  },
  {
   "cell_type": "code",
   "execution_count": null,
   "metadata": {
    "id": "_Gf8Rfw2MiG_"
   },
   "outputs": [],
   "source": [
    "# 환경변수 준비\n",
    "import os\n",
    "os.environ[\"OPENAI_API_KEY\"] = \"<OpenAI_API의 API 키>\""
   ]
  },
  {
   "cell_type": "markdown",
   "metadata": {
    "id": "fybYqxEiWvb0"
   },
   "source": [
    "# 텍스트에서 이미지 생성"
   ]
  },
  {
   "cell_type": "code",
   "execution_count": null,
   "metadata": {
    "id": "E1_g9k-1Zr9j"
   },
   "outputs": [],
   "source": [
    "# 프롬프트 준비\n",
    "prompt = \"cat dancing on car\""
   ]
  },
  {
   "cell_type": "code",
   "execution_count": null,
   "metadata": {
    "id": "_CS21Z45hzyW"
   },
   "outputs": [],
   "source": [
    "import openai\n",
    "\n",
    "# 텍스트에서 이미지 생성 실행\n",
    "response = openai.Image.create(\n",
    "    prompt=prompt,\n",
    "    n=1,\n",
    "    size=\"512x512\"\n",
    ")\n",
    "image_url = response[\"data\"][0][\"url\"]\n",
    "print(image_url)"
   ]
  },
  {
   "cell_type": "code",
   "execution_count": null,
   "metadata": {
    "id": "w-6IQEQhlU7B"
   },
   "outputs": [],
   "source": [
    "print(response)"
   ]
  },
  {
   "cell_type": "markdown",
   "metadata": {
    "id": "vQ-IvYqOW6bc"
   },
   "source": [
    "# 기존 이미지의 변형 생성"
   ]
  },
  {
   "cell_type": "code",
   "execution_count": null,
   "metadata": {
    "id": "fuvC4DY8W9nV"
   },
   "outputs": [],
   "source": [
    "# 이미지와 마스크 준비(현재 폴더에 이미지와 마스크를 넣어 둡니다)\n",
    "image = open(\"image.png\", \"rb\")\n",
    "mask = open(\"mask.png\", \"rb\")"
   ]
  },
  {
   "cell_type": "code",
   "execution_count": null,
   "metadata": {
    "id": "FuzvTRfCqoK6"
   },
   "outputs": [],
   "source": [
    "import openai\n",
    "\n",
    "# 이미지와 텍스트에서 이미지 편집을 실행\n",
    "response = openai.Image.create_edit(\n",
    "  image=image,\n",
    "  mask=mask,\n",
    "  prompt=\"many apples in cardboard box\",\n",
    "  n=1,\n",
    "  size=\"512x512\"\n",
    ")\n",
    "image_url = response[\"data\"][0][\"url\"]\n",
    "print(image_url)"
   ]
  },
  {
   "cell_type": "code",
   "execution_count": null,
   "metadata": {
    "id": "Yi5MS0ezrgN7"
   },
   "outputs": [],
   "source": [
    "print(response)"
   ]
  },
  {
   "cell_type": "code",
   "execution_count": null,
   "metadata": {
    "id": "jkHZg_Urx6U2"
   },
   "outputs": [],
   "source": [
    "# 이미지 준비(현재 폴더에 이미지를 넣어 둡니다.)\n",
    "image = open(\"image.png\", \"rb\")"
   ]
  },
  {
   "cell_type": "code",
   "execution_count": null,
   "metadata": {
    "id": "WCenJ69vx5i4"
   },
   "outputs": [],
   "source": [
    "import openai\n",
    "\n",
    "# 이미지에서 변형 생성\n",
    "response = openai.Image.create_variation(\n",
    "  image=image,\n",
    "  n=1,\n",
    "  size=\"512x512\"\n",
    ")\n",
    "image_url = response[\"data\"][0][\"url\"]\n",
    "print(image_url)"
   ]
  },
  {
   "cell_type": "code",
   "execution_count": null,
   "metadata": {
    "id": "Yzu6Ks3-yn15"
   },
   "outputs": [],
   "source": [
    "print(response)"
   ]
  }
 ],
 "metadata": {
  "colab": {
   "authorship_tag": "ABX9TyPO6au8OVBINWl5t6EeS0rs",
   "provenance": []
  },
  "kernelspec": {
   "display_name": "Python 3 (ipykernel)",
   "language": "python",
   "name": "python3"
  },
  "language_info": {
   "codemirror_mode": {
    "name": "ipython",
    "version": 3
   },
   "file_extension": ".py",
   "mimetype": "text/x-python",
   "name": "python",
   "nbconvert_exporter": "python",
   "pygments_lexer": "ipython3",
   "version": "3.11.3"
  }
 },
 "nbformat": 4,
 "nbformat_minor": 1
}
