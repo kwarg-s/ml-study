{
 "cells": [
  {
   "cell_type": "markdown",
   "metadata": {
    "id": "Qf_XcjXD89hw"
   },
   "source": [
    "# OpenAI API 사전 준비"
   ]
  },
  {
   "cell_type": "code",
   "execution_count": null,
   "metadata": {
    "id": "mkPbwp6-ploX"
   },
   "outputs": [],
   "source": [
    "# 패키지 설치\n",
    "!pip install openai"
   ]
  },
  {
   "cell_type": "code",
   "execution_count": null,
   "metadata": {
    "id": "_Gf8Rfw2MiG_"
   },
   "outputs": [],
   "source": [
    "# 환경변수 준비\n",
    "import os\n",
    "os.environ[\"OPENAI_API_KEY\"] = \"<OpenAI_API의 API 키>\""
   ]
  },
  {
   "cell_type": "markdown",
   "metadata": {
    "id": "5wL-FfZDW4vK"
   },
   "source": [
    "#  텍스트 생성"
   ]
  },
  {
   "cell_type": "markdown",
   "metadata": {
    "id": "4R2BdPA4W6wf"
   },
   "source": [
    "## 문장 생성"
   ]
  },
  {
   "cell_type": "code",
   "execution_count": null,
   "metadata": {
    "id": "saxgbY6NW-NV"
   },
   "outputs": [],
   "source": [
    "# 프롬프트 준비\n",
    "prompt = '''다음 이야기를 써주세요.\n",
    "기타를 좋아하지만 컴맹인 여고생이 어떤 계기로 록밴드에 가입하고, 낯선 인간관계를 통해 활동하게 되는 이야기.'''"
   ]
  },
  {
   "cell_type": "code",
   "execution_count": null,
   "metadata": {
    "id": "1ihPYdsKW-V6"
   },
   "outputs": [],
   "source": [
    "import openai\n",
    "\n",
    "# 텍스트 생성 실행\n",
    "response = openai.Completion.create(\n",
    "    model=\"text-davinci-003\",\n",
    "    prompt=prompt,\n",
    "    temperature=0.7,\n",
    "    max_tokens=500\n",
    ")\n",
    "print(response[\"choices\"][0][\"text\"])"
   ]
  },
  {
   "cell_type": "code",
   "execution_count": null,
   "metadata": {
    "id": "aIFULMvnYVEM"
   },
   "outputs": [],
   "source": [
    "print(response)"
   ]
  },
  {
   "cell_type": "markdown",
   "metadata": {
    "id": "9slSN_cSaQvU"
   },
   "source": [
    "# 질의응답"
   ]
  },
  {
   "cell_type": "code",
   "execution_count": null,
   "metadata": {
    "id": "7Xcq0MqVaSgm"
   },
   "outputs": [],
   "source": [
    "# 프롬프트 준비\n",
    "prompt = \"인공지능에 대해 알려주세요.\""
   ]
  },
  {
   "cell_type": "code",
   "execution_count": null,
   "metadata": {
    "id": "wSHguAuxaUnw"
   },
   "outputs": [],
   "source": [
    "import openai\n",
    "\n",
    "# 텍스트 생성 실행\n",
    "response = openai.Completion.create(\n",
    "    model=\"text-davinci-003\",\n",
    "    prompt=prompt,\n",
    "    temperature=0,\n",
    "    max_tokens=500\n",
    ")\n",
    "print(response[\"choices\"][0][\"text\"])"
   ]
  },
  {
   "cell_type": "markdown",
   "metadata": {
    "id": "5afV7paNaXL1"
   },
   "source": [
    "# 요약"
   ]
  },
  {
   "cell_type": "code",
   "execution_count": null,
   "metadata": {
    "id": "0YN3xUO9aaqv"
   },
   "outputs": [],
   "source": [
    "# 프롬프트 준비\n",
    "prompt = '''아래 문장을 짧은 한 문장으로 요약해 주세요.\n",
    "\n",
    "OpenAI는 영리법인 OpenAI LP와 그 모회사인 비영리법인 OpenAI Inc.로 구성된 인공지능 연구소입니다. 2015년 말에 샘 알트만과 일론 머스크 등이 샌프란시스코에서 설립했습니다. 인류 전체에 도움이 되는 방식으로 친근한 인공지능을 보급하고 발전시키는 것을 목표로 삼고 있습니다.'''"
   ]
  },
  {
   "cell_type": "code",
   "execution_count": null,
   "metadata": {
    "id": "2c9HBYlnaa_1"
   },
   "outputs": [],
   "source": [
    "import openai\n",
    "\n",
    "# 텍스트 생성 실행\n",
    "response = openai.Completion.create(\n",
    "    model=\"text-davinci-003\",\n",
    "    prompt=prompt,\n",
    "    temperature=0,\n",
    "    max_tokens=500\n",
    ")\n",
    "print(response[\"choices\"][0][\"text\"])"
   ]
  },
  {
   "cell_type": "markdown",
   "metadata": {
    "id": "hnaqGdrA9Aob"
   },
   "source": [
    "# 기계 번역"
   ]
  },
  {
   "cell_type": "code",
   "execution_count": null,
   "metadata": {
    "id": "-9fO85SQ7MRu"
   },
   "outputs": [],
   "source": [
    "# 프롬프트 준비\n",
    "prompt = '''한국어를 영어로 번역합니다.\n",
    "\n",
    "한국어: 나는 고양이다\n",
    "영어:'''"
   ]
  },
  {
   "cell_type": "code",
   "execution_count": null,
   "metadata": {
    "id": "Oh8OwVvb7MTx"
   },
   "outputs": [],
   "source": [
    "import openai\n",
    "\n",
    "# 텍스트 생성 실행\n",
    "response = openai.Completion.create(\n",
    "    model=\"text-davinci-003\",\n",
    "    prompt=prompt,\n",
    "    temperature=0\n",
    ")\n",
    "print(response[\"choices\"][0][\"text\"])"
   ]
  },
  {
   "cell_type": "markdown",
   "metadata": {
    "id": "orPUSTMj9JJu"
   },
   "source": [
    "# 프로그램 생성"
   ]
  },
  {
   "cell_type": "code",
   "execution_count": null,
   "metadata": {
    "id": "ebmIOgyd9al1"
   },
   "outputs": [],
   "source": [
    "# 프롬프트 준비\n",
    "prompt = '''# \"Hello World!\" 표시\n",
    "def helloworld():\n",
    "'''"
   ]
  },
  {
   "cell_type": "code",
   "execution_count": null,
   "metadata": {
    "id": "rFeMt6GR9gaw"
   },
   "outputs": [],
   "source": [
    "import openai\n",
    "\n",
    "# 텍스트 생성 실행\n",
    "response = openai.Completion.create(\n",
    "    model=\"text-davinci-003\",\n",
    "    prompt=prompt,\n",
    "    temperature=0\n",
    ")\n",
    "print(response[\"choices\"][0][\"text\"])"
   ]
  },
  {
   "cell_type": "markdown",
   "metadata": {
    "id": "byy032WGBOVw"
   },
   "source": [
    "# 채팅"
   ]
  },
  {
   "cell_type": "code",
   "execution_count": null,
   "metadata": {
    "id": "ZGWG9j87ecuP"
   },
   "outputs": [],
   "source": [
    "# 채팅 메시지 리스트 준비\n",
    "messages = [\n",
    "    {\"role\": \"system\", \"content\": \"아카네는 여고생 여동생 캐릭터의 채팅 AI입니다. 남동생과 대화합니다.\"},\n",
    "    {\"role\": \"user\", \"content\": \"안녕!\"},\n",
    "]"
   ]
  },
  {
   "cell_type": "code",
   "execution_count": null,
   "metadata": {
    "id": "eu8ZT1z9DVPh"
   },
   "outputs": [],
   "source": [
    "import openai\n",
    "\n",
    "# 채팅 실행\n",
    "response = openai.ChatCompletion.create(\n",
    "    model=\"gpt-3.5-turbo\",\n",
    "    messages=messages,\n",
    "    temperature=0\n",
    ")\n",
    "response[\"choices\"][0][\"message\"][\"content\"]"
   ]
  },
  {
   "cell_type": "code",
   "execution_count": null,
   "metadata": {
    "id": "YtN3gg4SGMye"
   },
   "outputs": [],
   "source": [
    "print(response)"
   ]
  },
  {
   "cell_type": "markdown",
   "metadata": {
    "id": "sHfFMyaPIkww"
   },
   "source": [
    "# 삽입"
   ]
  },
  {
   "cell_type": "code",
   "execution_count": null,
   "metadata": {
    "id": "2_nsNDm_ImWm"
   },
   "outputs": [],
   "source": [
    "# 프롬프트 준비\n",
    "prefix_prompt = \"\"\"def helloworld():\n",
    "    '''\n",
    "    설명: \"\"\"\n",
    "\n",
    "suffix_prompt = \"\"\"\n",
    "    '''\n",
    "    print(\"Hello World!\")\n",
    "\n",
    "helloworld()\n",
    "\"\"\""
   ]
  },
  {
   "cell_type": "code",
   "execution_count": null,
   "metadata": {
    "id": "9I-3QRjmJGOa"
   },
   "outputs": [],
   "source": [
    "import openai\n",
    "\n",
    "# 삽입 실행\n",
    "response = openai.Completion.create(\n",
    "    model=\"text-davinci-003\",\n",
    "    prompt=prefix_prompt,\n",
    "    suffix=suffix_prompt,\n",
    "    temperature=0.7,\n",
    "    max_tokens=300\n",
    ")\n",
    "print(response[\"choices\"][0][\"text\"])"
   ]
  },
  {
   "cell_type": "markdown",
   "metadata": {
    "id": "69k6JmTtiQBE"
   },
   "source": [
    "# 편집"
   ]
  },
  {
   "cell_type": "code",
   "execution_count": null,
   "metadata": {
    "id": "dwj-HooqiRyE"
   },
   "outputs": [],
   "source": [
    "# 프롬프트 준비\n",
    "input = \"오늘은 정말 즐거웠따.\"\n",
    "instruction = \"오타를 수정해 주세요.\""
   ]
  },
  {
   "cell_type": "code",
   "execution_count": null,
   "metadata": {
    "id": "isf49NDdTtHY"
   },
   "outputs": [],
   "source": [
    "import openai\n",
    "\n",
    "# 편집 실행\n",
    "response = openai.Edit.create(\n",
    "    model=\"text-davinci-edit-001\",\n",
    "    input=input,\n",
    "    instruction=instruction,\n",
    "    temperature=0\n",
    ")\n",
    "print(response[\"choices\"][0][\"text\"])"
   ]
  },
  {
   "cell_type": "code",
   "execution_count": null,
   "metadata": {
    "id": "E18hgWF2UyEr"
   },
   "outputs": [],
   "source": [
    "print(response)"
   ]
  }
 ],
 "metadata": {
  "colab": {
   "authorship_tag": "ABX9TyP6dYGz0ZADzTNAz+mrEygy",
   "provenance": []
  },
  "gpuClass": "standard",
  "kernelspec": {
   "display_name": "Python 3 (ipykernel)",
   "language": "python",
   "name": "python3"
  },
  "language_info": {
   "codemirror_mode": {
    "name": "ipython",
    "version": 3
   },
   "file_extension": ".py",
   "mimetype": "text/x-python",
   "name": "python",
   "nbconvert_exporter": "python",
   "pygments_lexer": "ipython3",
   "version": "3.11.3"
  }
 },
 "nbformat": 4,
 "nbformat_minor": 1
}
